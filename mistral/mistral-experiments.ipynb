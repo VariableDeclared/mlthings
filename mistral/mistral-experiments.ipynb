{
 "cells": [
  {
   "cell_type": "markdown",
   "id": "e91b76fb-53b6-430f-9f49-671ac27d43f6",
   "metadata": {},
   "source": [
    "# Experiments\n",
    "\n",
    "Starting experiments...\n"
   ]
  },
  {
   "cell_type": "code",
   "execution_count": 2,
   "id": "589d18e6-fca4-4fd7-8c43-5c945dc58c49",
   "metadata": {},
   "outputs": [
    {
     "name": "stdout",
     "output_type": "stream",
     "text": [
      "Requirement already satisfied: mistral-common in /home/pjds/miniconda3/envs/llma/lib/python3.11/site-packages (1.2.1)\n",
      "Requirement already satisfied: jsonschema==4.21.1 in /home/pjds/miniconda3/envs/llma/lib/python3.11/site-packages (from mistral-common) (4.21.1)\n",
      "Requirement already satisfied: pydantic==2.6.1 in /home/pjds/miniconda3/envs/llma/lib/python3.11/site-packages (from mistral-common) (2.6.1)\n",
      "Requirement already satisfied: sentencepiece==0.1.99 in /home/pjds/miniconda3/envs/llma/lib/python3.11/site-packages (from mistral-common) (0.1.99)\n",
      "Requirement already satisfied: typing-extensions<5.0.0,>=4.11.0 in /home/pjds/miniconda3/envs/llma/lib/python3.11/site-packages (from mistral-common) (4.11.0)\n",
      "Requirement already satisfied: attrs>=22.2.0 in /home/pjds/miniconda3/envs/llma/lib/python3.11/site-packages (from jsonschema==4.21.1->mistral-common) (23.1.0)\n",
      "Requirement already satisfied: jsonschema-specifications>=2023.03.6 in /home/pjds/miniconda3/envs/llma/lib/python3.11/site-packages (from jsonschema==4.21.1->mistral-common) (2023.12.1)\n",
      "Requirement already satisfied: referencing>=0.28.4 in /home/pjds/miniconda3/envs/llma/lib/python3.11/site-packages (from jsonschema==4.21.1->mistral-common) (0.35.1)\n",
      "Requirement already satisfied: rpds-py>=0.7.1 in /home/pjds/miniconda3/envs/llma/lib/python3.11/site-packages (from jsonschema==4.21.1->mistral-common) (0.18.1)\n",
      "Requirement already satisfied: annotated-types>=0.4.0 in /home/pjds/miniconda3/envs/llma/lib/python3.11/site-packages (from pydantic==2.6.1->mistral-common) (0.7.0)\n",
      "Requirement already satisfied: pydantic-core==2.16.2 in /home/pjds/miniconda3/envs/llma/lib/python3.11/site-packages (from pydantic==2.6.1->mistral-common) (2.16.2)\n",
      "Collecting mistralai\n",
      "  Downloading mistralai-0.3.0-py3-none-any.whl.metadata (1.8 kB)\n",
      "Requirement already satisfied: httpx<1,>=0.25.2 in /home/pjds/miniconda3/envs/llma/lib/python3.11/site-packages (from mistralai) (0.27.0)\n",
      "Collecting orjson<4.0.0,>=3.9.10 (from mistralai)\n",
      "  Downloading orjson-3.10.3-cp311-cp311-manylinux_2_17_x86_64.manylinux2014_x86_64.whl.metadata (49 kB)\n",
      "\u001b[2K     \u001b[90m━━━━━━━━━━━━━━━━━━━━━━━━━━━━━━━━━━━━━━━━\u001b[0m \u001b[32m49.7/49.7 kB\u001b[0m \u001b[31m1.8 MB/s\u001b[0m eta \u001b[36m0:00:00\u001b[0m\n",
      "\u001b[?25hRequirement already satisfied: pydantic<3.0.0,>=2.5.2 in /home/pjds/miniconda3/envs/llma/lib/python3.11/site-packages (from mistralai) (2.6.1)\n",
      "Requirement already satisfied: anyio in /home/pjds/miniconda3/envs/llma/lib/python3.11/site-packages (from httpx<1,>=0.25.2->mistralai) (4.4.0)\n",
      "Requirement already satisfied: certifi in /home/pjds/miniconda3/envs/llma/lib/python3.11/site-packages (from httpx<1,>=0.25.2->mistralai) (2024.2.2)\n",
      "Requirement already satisfied: httpcore==1.* in /home/pjds/miniconda3/envs/llma/lib/python3.11/site-packages (from httpx<1,>=0.25.2->mistralai) (1.0.5)\n",
      "Requirement already satisfied: idna in /home/pjds/miniconda3/envs/llma/lib/python3.11/site-packages (from httpx<1,>=0.25.2->mistralai) (3.7)\n",
      "Requirement already satisfied: sniffio in /home/pjds/miniconda3/envs/llma/lib/python3.11/site-packages (from httpx<1,>=0.25.2->mistralai) (1.3.1)\n",
      "Requirement already satisfied: h11<0.15,>=0.13 in /home/pjds/miniconda3/envs/llma/lib/python3.11/site-packages (from httpcore==1.*->httpx<1,>=0.25.2->mistralai) (0.14.0)\n",
      "Requirement already satisfied: annotated-types>=0.4.0 in /home/pjds/miniconda3/envs/llma/lib/python3.11/site-packages (from pydantic<3.0.0,>=2.5.2->mistralai) (0.7.0)\n",
      "Requirement already satisfied: pydantic-core==2.16.2 in /home/pjds/miniconda3/envs/llma/lib/python3.11/site-packages (from pydantic<3.0.0,>=2.5.2->mistralai) (2.16.2)\n",
      "Requirement already satisfied: typing-extensions>=4.6.1 in /home/pjds/miniconda3/envs/llma/lib/python3.11/site-packages (from pydantic<3.0.0,>=2.5.2->mistralai) (4.11.0)\n",
      "Downloading mistralai-0.3.0-py3-none-any.whl (16 kB)\n",
      "Downloading orjson-3.10.3-cp311-cp311-manylinux_2_17_x86_64.manylinux2014_x86_64.whl (142 kB)\n",
      "\u001b[2K   \u001b[90m━━━━━━━━━━━━━━━━━━━━━━━━━━━━━━━━━━━━━━━━\u001b[0m \u001b[32m142.5/142.5 kB\u001b[0m \u001b[31m6.2 MB/s\u001b[0m eta \u001b[36m0:00:00\u001b[0m\n",
      "\u001b[?25hInstalling collected packages: orjson, mistralai\n",
      "Successfully installed mistralai-0.3.0 orjson-3.10.3\n"
     ]
    }
   ],
   "source": [
    "!pip install mistral-common\n",
    "! pip install mistralai"
   ]
  },
  {
   "cell_type": "code",
   "execution_count": 3,
   "id": "5b573582-fe64-40e2-9774-795c2863198d",
   "metadata": {},
   "outputs": [
    {
     "ename": "ModuleNotFoundError",
     "evalue": "No module named 'mistral_common.tokens.instruct.normalize'",
     "output_type": "error",
     "traceback": [
      "\u001b[0;31m---------------------------------------------------------------------------\u001b[0m",
      "\u001b[0;31mModuleNotFoundError\u001b[0m                       Traceback (most recent call last)",
      "Cell \u001b[0;32mIn[3], line 11\u001b[0m\n\u001b[1;32m      6\u001b[0m \u001b[38;5;28;01mfrom\u001b[39;00m \u001b[38;5;21;01mmistral_common\u001b[39;00m\u001b[38;5;21;01m.\u001b[39;00m\u001b[38;5;21;01mprotocol\u001b[39;00m\u001b[38;5;21;01m.\u001b[39;00m\u001b[38;5;21;01minstruct\u001b[39;00m\u001b[38;5;21;01m.\u001b[39;00m\u001b[38;5;21;01mtool_calls\u001b[39;00m \u001b[38;5;28;01mimport\u001b[39;00m (\n\u001b[1;32m      7\u001b[0m     Tool,\n\u001b[1;32m      8\u001b[0m     Function,\n\u001b[1;32m      9\u001b[0m )\n\u001b[1;32m     10\u001b[0m \u001b[38;5;28;01mfrom\u001b[39;00m \u001b[38;5;21;01mmistral_common\u001b[39;00m\u001b[38;5;21;01m.\u001b[39;00m\u001b[38;5;21;01mtokens\u001b[39;00m\u001b[38;5;21;01m.\u001b[39;00m\u001b[38;5;21;01mtokenizers\u001b[39;00m\u001b[38;5;21;01m.\u001b[39;00m\u001b[38;5;21;01mmistral\u001b[39;00m \u001b[38;5;28;01mimport\u001b[39;00m MistralTokenizer\n\u001b[0;32m---> 11\u001b[0m \u001b[38;5;28;01mfrom\u001b[39;00m \u001b[38;5;21;01mmistral_common\u001b[39;00m\u001b[38;5;21;01m.\u001b[39;00m\u001b[38;5;21;01mtokens\u001b[39;00m\u001b[38;5;21;01m.\u001b[39;00m\u001b[38;5;21;01minstruct\u001b[39;00m\u001b[38;5;21;01m.\u001b[39;00m\u001b[38;5;21;01mnormalize\u001b[39;00m \u001b[38;5;28;01mimport\u001b[39;00m ChatCompletionRequest\n\u001b[1;32m     13\u001b[0m device \u001b[38;5;241m=\u001b[39m \u001b[38;5;124m\"\u001b[39m\u001b[38;5;124mcuda\u001b[39m\u001b[38;5;124m\"\u001b[39m \u001b[38;5;66;03m# the device to load the model onto\u001b[39;00m\n\u001b[1;32m     15\u001b[0m tokenizer_v3 \u001b[38;5;241m=\u001b[39m MistralTokenizer\u001b[38;5;241m.\u001b[39mv3()\n",
      "\u001b[0;31mModuleNotFoundError\u001b[0m: No module named 'mistral_common.tokens.instruct.normalize'"
     ]
    }
   ],
   "source": [
    "from mistral_common.tokens.tokenizers.mistral import MistralTokenizer\n",
    "from mistral_common.protocol.instruct.request import ChatCompletionRequest\n",
    "from mistral_common.protocol.instruct.messages import UserMessage\n",
    "from mistral_common.protocol.instruct.tool_calls import Tool, Function\n",
    "\n",
    "from mistralai.client import MistralClient\n",
    "\n",
    "\n",
    "client = MistralClient(api_key=\"YOUR_API_KEY\")\n",
    "\n",
    "tokenizer_v3 = MistralTokenizer.v3()\n",
    "\n",
    "request = ChatCompletionRequest(\n",
    "          tools=[\n",
    "              Tool(\n",
    "                  function=Function(\n",
    "                      name=\"get_current_weather\",\n",
    "                      description=\"Get the current weather\",\n",
    "                      parameters={\n",
    "                          \"type\": \"object\",\n",
    "                          \"properties\": {\n",
    "                              \"location\": {\n",
    "                                  \"type\": \"string\",\n",
    "                                  \"description\": \"The city and state, e.g. San Francisco, CA\",\n",
    "                              },\n",
    "                              \"format\": {\n",
    "                                  \"type\": \"string\",\n",
    "                                  \"enum\": [\"celsius\", \"fahrenheit\"],\n",
    "                                  \"description\": \"The temperature unit to use. Infer this from the users location.\",\n",
    "                              },\n",
    "                          },\n",
    "                          \"required\": [\"location\", \"format\"],\n",
    "                      },\n",
    "                  )\n",
    "              )\n",
    "          ],\n",
    "          messages=[\n",
    "              UserMessage(content=\"What's the weather like today in Paris\"),\n",
    "          ],\n",
    "          model=\"open-mixtral-8x22b\",\n",
    "    )\n",
    "\n",
    "# Calculate tokens\n",
    "tokenized = tokenizer_v3.encode_chat_completion(request)\n",
    "tokens, text = tokenized.tokens, tokenized.text\n",
    "\n",
    "response = client.chat(**request.model_dump())\n",
    "\n",
    "print(f\"Tokens calculated: {len(tokens)}\")\n",
    "print(f\"Prompt tokens calculated in API: {response.usage.prompt_tokens}\")"
   ]
  },
  {
   "cell_type": "code",
   "execution_count": null,
   "id": "4ffe1340-82a7-4cb6-83a5-80ca7f2c670d",
   "metadata": {},
   "outputs": [],
   "source": []
  }
 ],
 "metadata": {
  "kernelspec": {
   "display_name": "Python 3 (ipykernel)",
   "language": "python",
   "name": "python3"
  },
  "language_info": {
   "codemirror_mode": {
    "name": "ipython",
    "version": 3
   },
   "file_extension": ".py",
   "mimetype": "text/x-python",
   "name": "python",
   "nbconvert_exporter": "python",
   "pygments_lexer": "ipython3",
   "version": "3.11.9"
  }
 },
 "nbformat": 4,
 "nbformat_minor": 5
}
