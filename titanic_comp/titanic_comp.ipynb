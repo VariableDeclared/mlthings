{
 "cells": [
  {
   "cell_type": "markdown",
   "id": "649d5488-58c0-4ba3-a901-aa134218681a",
   "metadata": {},
   "source": [
    "# Titanic Competition"
   ]
  },
  {
   "cell_type": "code",
   "execution_count": 2,
   "id": "aa2c60d5-9877-458a-bcb7-dfa2b31e374f",
   "metadata": {},
   "outputs": [
    {
     "name": "stdout",
     "output_type": "stream",
     "text": [
      "Requirement already satisfied: numpy in /home/pjds/miniconda3/envs/tf-experiments/lib/python3.11/site-packages (1.23.5)\n",
      "Requirement already satisfied: pandas in /home/pjds/miniconda3/envs/tf-experiments/lib/python3.11/site-packages (2.2.2)\n",
      "Requirement already satisfied: tensorflow_decision_forests in /home/pjds/miniconda3/envs/tf-experiments/lib/python3.11/site-packages (1.9.1)\n",
      "Requirement already satisfied: tensorflow[and-cuda] in /home/pjds/miniconda3/envs/tf-experiments/lib/python3.11/site-packages (2.16.2)\n",
      "Requirement already satisfied: python-dateutil>=2.8.2 in /home/pjds/miniconda3/envs/tf-experiments/lib/python3.11/site-packages (from pandas) (2.9.0.post0)\n",
      "Requirement already satisfied: pytz>=2020.1 in /home/pjds/miniconda3/envs/tf-experiments/lib/python3.11/site-packages (from pandas) (2024.1)\n",
      "Requirement already satisfied: tzdata>=2022.7 in /home/pjds/miniconda3/envs/tf-experiments/lib/python3.11/site-packages (from pandas) (2024.1)\n",
      "Requirement already satisfied: six in /home/pjds/miniconda3/envs/tf-experiments/lib/python3.11/site-packages (from tensorflow_decision_forests) (1.16.0)\n",
      "Requirement already satisfied: absl-py in /home/pjds/miniconda3/envs/tf-experiments/lib/python3.11/site-packages (from tensorflow_decision_forests) (2.1.0)\n",
      "Requirement already satisfied: wheel in /home/pjds/miniconda3/envs/tf-experiments/lib/python3.11/site-packages (from tensorflow_decision_forests) (0.43.0)\n",
      "Requirement already satisfied: wurlitzer in /home/pjds/miniconda3/envs/tf-experiments/lib/python3.11/site-packages (from tensorflow_decision_forests) (3.1.1)\n",
      "Requirement already satisfied: tf-keras~=2.16 in /home/pjds/miniconda3/envs/tf-experiments/lib/python3.11/site-packages (from tensorflow_decision_forests) (2.16.0)\n",
      "Requirement already satisfied: ydf in /home/pjds/miniconda3/envs/tf-experiments/lib/python3.11/site-packages (from tensorflow_decision_forests) (0.5.0)\n",
      "Requirement already satisfied: astunparse>=1.6.0 in /home/pjds/miniconda3/envs/tf-experiments/lib/python3.11/site-packages (from tensorflow[and-cuda]) (1.6.3)\n",
      "Requirement already satisfied: flatbuffers>=23.5.26 in /home/pjds/miniconda3/envs/tf-experiments/lib/python3.11/site-packages (from tensorflow[and-cuda]) (24.3.25)\n",
      "Requirement already satisfied: gast!=0.5.0,!=0.5.1,!=0.5.2,>=0.2.1 in /home/pjds/miniconda3/envs/tf-experiments/lib/python3.11/site-packages (from tensorflow[and-cuda]) (0.4.0)\n",
      "Requirement already satisfied: google-pasta>=0.1.1 in /home/pjds/miniconda3/envs/tf-experiments/lib/python3.11/site-packages (from tensorflow[and-cuda]) (0.2.0)\n",
      "Requirement already satisfied: h5py>=3.10.0 in /home/pjds/miniconda3/envs/tf-experiments/lib/python3.11/site-packages (from tensorflow[and-cuda]) (3.11.0)\n",
      "Requirement already satisfied: libclang>=13.0.0 in /home/pjds/miniconda3/envs/tf-experiments/lib/python3.11/site-packages (from tensorflow[and-cuda]) (18.1.1)\n",
      "Requirement already satisfied: ml-dtypes~=0.3.1 in /home/pjds/miniconda3/envs/tf-experiments/lib/python3.11/site-packages (from tensorflow[and-cuda]) (0.3.2)\n",
      "Requirement already satisfied: opt-einsum>=2.3.2 in /home/pjds/miniconda3/envs/tf-experiments/lib/python3.11/site-packages (from tensorflow[and-cuda]) (3.3.0)\n",
      "Requirement already satisfied: packaging in /home/pjds/miniconda3/envs/tf-experiments/lib/python3.11/site-packages (from tensorflow[and-cuda]) (24.1)\n",
      "Requirement already satisfied: protobuf!=4.21.0,!=4.21.1,!=4.21.2,!=4.21.3,!=4.21.4,!=4.21.5,<5.0.0dev,>=3.20.3 in /home/pjds/miniconda3/envs/tf-experiments/lib/python3.11/site-packages (from tensorflow[and-cuda]) (3.20.3)\n",
      "Requirement already satisfied: requests<3,>=2.21.0 in /home/pjds/miniconda3/envs/tf-experiments/lib/python3.11/site-packages (from tensorflow[and-cuda]) (2.32.2)\n",
      "Requirement already satisfied: setuptools in /home/pjds/miniconda3/envs/tf-experiments/lib/python3.11/site-packages (from tensorflow[and-cuda]) (69.5.1)\n",
      "Requirement already satisfied: termcolor>=1.1.0 in /home/pjds/miniconda3/envs/tf-experiments/lib/python3.11/site-packages (from tensorflow[and-cuda]) (2.1.0)\n",
      "Requirement already satisfied: typing-extensions>=3.6.6 in /home/pjds/miniconda3/envs/tf-experiments/lib/python3.11/site-packages (from tensorflow[and-cuda]) (4.11.0)\n",
      "Requirement already satisfied: wrapt>=1.11.0 in /home/pjds/miniconda3/envs/tf-experiments/lib/python3.11/site-packages (from tensorflow[and-cuda]) (1.14.1)\n",
      "Requirement already satisfied: grpcio<2.0,>=1.24.3 in /home/pjds/miniconda3/envs/tf-experiments/lib/python3.11/site-packages (from tensorflow[and-cuda]) (1.48.2)\n",
      "Requirement already satisfied: tensorboard<2.17,>=2.16 in /home/pjds/miniconda3/envs/tf-experiments/lib/python3.11/site-packages (from tensorflow[and-cuda]) (2.16.2)\n",
      "Requirement already satisfied: keras>=3.0.0 in /home/pjds/miniconda3/envs/tf-experiments/lib/python3.11/site-packages (from tensorflow[and-cuda]) (3.4.1)\n",
      "Requirement already satisfied: tensorflow-io-gcs-filesystem>=0.23.1 in /home/pjds/miniconda3/envs/tf-experiments/lib/python3.11/site-packages (from tensorflow[and-cuda]) (0.37.1)\n",
      "Requirement already satisfied: nvidia-cublas-cu12==12.3.4.1 in /home/pjds/miniconda3/envs/tf-experiments/lib/python3.11/site-packages (from tensorflow[and-cuda]) (12.3.4.1)\n",
      "Requirement already satisfied: nvidia-cuda-cupti-cu12==12.3.101 in /home/pjds/miniconda3/envs/tf-experiments/lib/python3.11/site-packages (from tensorflow[and-cuda]) (12.3.101)\n",
      "Requirement already satisfied: nvidia-cuda-nvcc-cu12==12.3.107 in /home/pjds/miniconda3/envs/tf-experiments/lib/python3.11/site-packages (from tensorflow[and-cuda]) (12.3.107)\n",
      "Requirement already satisfied: nvidia-cuda-nvrtc-cu12==12.3.107 in /home/pjds/miniconda3/envs/tf-experiments/lib/python3.11/site-packages (from tensorflow[and-cuda]) (12.3.107)\n",
      "Requirement already satisfied: nvidia-cuda-runtime-cu12==12.3.101 in /home/pjds/miniconda3/envs/tf-experiments/lib/python3.11/site-packages (from tensorflow[and-cuda]) (12.3.101)\n",
      "Requirement already satisfied: nvidia-cudnn-cu12==8.9.7.29 in /home/pjds/miniconda3/envs/tf-experiments/lib/python3.11/site-packages (from tensorflow[and-cuda]) (8.9.7.29)\n",
      "Requirement already satisfied: nvidia-cufft-cu12==11.0.12.1 in /home/pjds/miniconda3/envs/tf-experiments/lib/python3.11/site-packages (from tensorflow[and-cuda]) (11.0.12.1)\n",
      "Requirement already satisfied: nvidia-curand-cu12==10.3.4.107 in /home/pjds/miniconda3/envs/tf-experiments/lib/python3.11/site-packages (from tensorflow[and-cuda]) (10.3.4.107)\n",
      "Requirement already satisfied: nvidia-cusolver-cu12==11.5.4.101 in /home/pjds/miniconda3/envs/tf-experiments/lib/python3.11/site-packages (from tensorflow[and-cuda]) (11.5.4.101)\n",
      "Requirement already satisfied: nvidia-cusparse-cu12==12.2.0.103 in /home/pjds/miniconda3/envs/tf-experiments/lib/python3.11/site-packages (from tensorflow[and-cuda]) (12.2.0.103)\n",
      "Requirement already satisfied: nvidia-nccl-cu12==2.19.3 in /home/pjds/miniconda3/envs/tf-experiments/lib/python3.11/site-packages (from tensorflow[and-cuda]) (2.19.3)\n",
      "Requirement already satisfied: nvidia-nvjitlink-cu12==12.3.101 in /home/pjds/miniconda3/envs/tf-experiments/lib/python3.11/site-packages (from tensorflow[and-cuda]) (12.3.101)\n",
      "Requirement already satisfied: rich in /home/pjds/miniconda3/envs/tf-experiments/lib/python3.11/site-packages (from keras>=3.0.0->tensorflow[and-cuda]) (13.7.1)\n",
      "Requirement already satisfied: namex in /home/pjds/miniconda3/envs/tf-experiments/lib/python3.11/site-packages (from keras>=3.0.0->tensorflow[and-cuda]) (0.0.8)\n",
      "Requirement already satisfied: optree in /home/pjds/miniconda3/envs/tf-experiments/lib/python3.11/site-packages (from keras>=3.0.0->tensorflow[and-cuda]) (0.12.1)\n",
      "Requirement already satisfied: charset-normalizer<4,>=2 in /home/pjds/miniconda3/envs/tf-experiments/lib/python3.11/site-packages (from requests<3,>=2.21.0->tensorflow[and-cuda]) (2.0.4)\n",
      "Requirement already satisfied: idna<4,>=2.5 in /home/pjds/miniconda3/envs/tf-experiments/lib/python3.11/site-packages (from requests<3,>=2.21.0->tensorflow[and-cuda]) (3.7)\n",
      "Requirement already satisfied: urllib3<3,>=1.21.1 in /home/pjds/miniconda3/envs/tf-experiments/lib/python3.11/site-packages (from requests<3,>=2.21.0->tensorflow[and-cuda]) (2.2.2)\n",
      "Requirement already satisfied: certifi>=2017.4.17 in /home/pjds/miniconda3/envs/tf-experiments/lib/python3.11/site-packages (from requests<3,>=2.21.0->tensorflow[and-cuda]) (2024.6.2)\n",
      "Requirement already satisfied: markdown>=2.6.8 in /home/pjds/miniconda3/envs/tf-experiments/lib/python3.11/site-packages (from tensorboard<2.17,>=2.16->tensorflow[and-cuda]) (3.4.1)\n",
      "Requirement already satisfied: tensorboard-data-server<0.8.0,>=0.7.0 in /home/pjds/miniconda3/envs/tf-experiments/lib/python3.11/site-packages (from tensorboard<2.17,>=2.16->tensorflow[and-cuda]) (0.7.0)\n",
      "Requirement already satisfied: werkzeug>=1.0.1 in /home/pjds/miniconda3/envs/tf-experiments/lib/python3.11/site-packages (from tensorboard<2.17,>=2.16->tensorflow[and-cuda]) (3.0.3)\n",
      "Requirement already satisfied: MarkupSafe>=2.1.1 in /home/pjds/miniconda3/envs/tf-experiments/lib/python3.11/site-packages (from werkzeug>=1.0.1->tensorboard<2.17,>=2.16->tensorflow[and-cuda]) (2.1.3)\n",
      "Requirement already satisfied: markdown-it-py>=2.2.0 in /home/pjds/miniconda3/envs/tf-experiments/lib/python3.11/site-packages (from rich->keras>=3.0.0->tensorflow[and-cuda]) (3.0.0)\n",
      "Requirement already satisfied: pygments<3.0.0,>=2.13.0 in /home/pjds/miniconda3/envs/tf-experiments/lib/python3.11/site-packages (from rich->keras>=3.0.0->tensorflow[and-cuda]) (2.15.1)\n",
      "Requirement already satisfied: mdurl~=0.1 in /home/pjds/miniconda3/envs/tf-experiments/lib/python3.11/site-packages (from markdown-it-py>=2.2.0->rich->keras>=3.0.0->tensorflow[and-cuda]) (0.1.2)\n"
     ]
    }
   ],
   "source": [
    "!pip install numpy pandas  tensorflow_decision_forests tensorflow\\[and-cuda\\]"
   ]
  },
  {
   "cell_type": "code",
   "execution_count": 3,
   "id": "7214e639-b6c8-4149-b107-a9fc627c58db",
   "metadata": {},
   "outputs": [
    {
     "name": "stderr",
     "output_type": "stream",
     "text": [
      "2024-07-06 18:42:04.387000: E external/local_xla/xla/stream_executor/cuda/cuda_fft.cc:479] Unable to register cuFFT factory: Attempting to register factory for plugin cuFFT when one has already been registered\n",
      "2024-07-06 18:42:04.399089: E external/local_xla/xla/stream_executor/cuda/cuda_dnn.cc:10575] Unable to register cuDNN factory: Attempting to register factory for plugin cuDNN when one has already been registered\n",
      "2024-07-06 18:42:04.399114: E external/local_xla/xla/stream_executor/cuda/cuda_blas.cc:1442] Unable to register cuBLAS factory: Attempting to register factory for plugin cuBLAS when one has already been registered\n",
      "2024-07-06 18:42:04.407547: I tensorflow/core/platform/cpu_feature_guard.cc:210] This TensorFlow binary is optimized to use available CPU instructions in performance-critical operations.\n",
      "To enable the following instructions: AVX2 FMA, in other operations, rebuild TensorFlow with the appropriate compiler flags.\n",
      "2024-07-06 18:42:04.923299: W tensorflow/compiler/tf2tensorrt/utils/py_utils.cc:38] TF-TRT Warning: Could not find TensorRT\n",
      "WARNING:root:TensorFlow Decision Forests 1.9.1 is compatible with the following TensorFlow Versions: ['2.16.1']. However, TensorFlow 2.16.2 was detected. This can cause issues with the TF API and symbols in the custom C++ ops. See the TF and TF-DF compatibility table at https://github.com/tensorflow/decision-forests/blob/main/documentation/known_issues.md#compatibility-table.\n"
     ]
    },
    {
     "name": "stdout",
     "output_type": "stream",
     "text": [
      "Found TF-DF 1.9.1\n"
     ]
    }
   ],
   "source": [
    "import numpy as np\n",
    "import pandas as pd\n",
    "import os\n",
    "\n",
    "import tensorflow as tf\n",
    "import tensorflow_decision_forests as tfdf\n",
    "\n",
    "print(f\"Found TF-DF {tfdf.__version__}\")"
   ]
  },
  {
   "cell_type": "code",
   "execution_count": 4,
   "id": "bba57f13-0e59-4beb-ae21-e6531822313b",
   "metadata": {},
   "outputs": [
    {
     "data": {
      "text/html": [
       "<div>\n",
       "<style scoped>\n",
       "    .dataframe tbody tr th:only-of-type {\n",
       "        vertical-align: middle;\n",
       "    }\n",
       "\n",
       "    .dataframe tbody tr th {\n",
       "        vertical-align: top;\n",
       "    }\n",
       "\n",
       "    .dataframe thead th {\n",
       "        text-align: right;\n",
       "    }\n",
       "</style>\n",
       "<table border=\"1\" class=\"dataframe\">\n",
       "  <thead>\n",
       "    <tr style=\"text-align: right;\">\n",
       "      <th></th>\n",
       "      <th>PassengerId</th>\n",
       "      <th>Survived</th>\n",
       "      <th>Pclass</th>\n",
       "      <th>Name</th>\n",
       "      <th>Sex</th>\n",
       "      <th>Age</th>\n",
       "      <th>SibSp</th>\n",
       "      <th>Parch</th>\n",
       "      <th>Ticket</th>\n",
       "      <th>Fare</th>\n",
       "      <th>Cabin</th>\n",
       "      <th>Embarked</th>\n",
       "    </tr>\n",
       "  </thead>\n",
       "  <tbody>\n",
       "    <tr>\n",
       "      <th>0</th>\n",
       "      <td>1</td>\n",
       "      <td>0</td>\n",
       "      <td>3</td>\n",
       "      <td>Braund, Mr. Owen Harris</td>\n",
       "      <td>male</td>\n",
       "      <td>22.0</td>\n",
       "      <td>1</td>\n",
       "      <td>0</td>\n",
       "      <td>A/5 21171</td>\n",
       "      <td>7.2500</td>\n",
       "      <td>NaN</td>\n",
       "      <td>S</td>\n",
       "    </tr>\n",
       "    <tr>\n",
       "      <th>1</th>\n",
       "      <td>2</td>\n",
       "      <td>1</td>\n",
       "      <td>1</td>\n",
       "      <td>Cumings, Mrs. John Bradley (Florence Briggs Th...</td>\n",
       "      <td>female</td>\n",
       "      <td>38.0</td>\n",
       "      <td>1</td>\n",
       "      <td>0</td>\n",
       "      <td>PC 17599</td>\n",
       "      <td>71.2833</td>\n",
       "      <td>C85</td>\n",
       "      <td>C</td>\n",
       "    </tr>\n",
       "    <tr>\n",
       "      <th>2</th>\n",
       "      <td>3</td>\n",
       "      <td>1</td>\n",
       "      <td>3</td>\n",
       "      <td>Heikkinen, Miss. Laina</td>\n",
       "      <td>female</td>\n",
       "      <td>26.0</td>\n",
       "      <td>0</td>\n",
       "      <td>0</td>\n",
       "      <td>STON/O2. 3101282</td>\n",
       "      <td>7.9250</td>\n",
       "      <td>NaN</td>\n",
       "      <td>S</td>\n",
       "    </tr>\n",
       "    <tr>\n",
       "      <th>3</th>\n",
       "      <td>4</td>\n",
       "      <td>1</td>\n",
       "      <td>1</td>\n",
       "      <td>Futrelle, Mrs. Jacques Heath (Lily May Peel)</td>\n",
       "      <td>female</td>\n",
       "      <td>35.0</td>\n",
       "      <td>1</td>\n",
       "      <td>0</td>\n",
       "      <td>113803</td>\n",
       "      <td>53.1000</td>\n",
       "      <td>C123</td>\n",
       "      <td>S</td>\n",
       "    </tr>\n",
       "    <tr>\n",
       "      <th>4</th>\n",
       "      <td>5</td>\n",
       "      <td>0</td>\n",
       "      <td>3</td>\n",
       "      <td>Allen, Mr. William Henry</td>\n",
       "      <td>male</td>\n",
       "      <td>35.0</td>\n",
       "      <td>0</td>\n",
       "      <td>0</td>\n",
       "      <td>373450</td>\n",
       "      <td>8.0500</td>\n",
       "      <td>NaN</td>\n",
       "      <td>S</td>\n",
       "    </tr>\n",
       "    <tr>\n",
       "      <th>5</th>\n",
       "      <td>6</td>\n",
       "      <td>0</td>\n",
       "      <td>3</td>\n",
       "      <td>Moran, Mr. James</td>\n",
       "      <td>male</td>\n",
       "      <td>NaN</td>\n",
       "      <td>0</td>\n",
       "      <td>0</td>\n",
       "      <td>330877</td>\n",
       "      <td>8.4583</td>\n",
       "      <td>NaN</td>\n",
       "      <td>Q</td>\n",
       "    </tr>\n",
       "    <tr>\n",
       "      <th>6</th>\n",
       "      <td>7</td>\n",
       "      <td>0</td>\n",
       "      <td>1</td>\n",
       "      <td>McCarthy, Mr. Timothy J</td>\n",
       "      <td>male</td>\n",
       "      <td>54.0</td>\n",
       "      <td>0</td>\n",
       "      <td>0</td>\n",
       "      <td>17463</td>\n",
       "      <td>51.8625</td>\n",
       "      <td>E46</td>\n",
       "      <td>S</td>\n",
       "    </tr>\n",
       "    <tr>\n",
       "      <th>7</th>\n",
       "      <td>8</td>\n",
       "      <td>0</td>\n",
       "      <td>3</td>\n",
       "      <td>Palsson, Master. Gosta Leonard</td>\n",
       "      <td>male</td>\n",
       "      <td>2.0</td>\n",
       "      <td>3</td>\n",
       "      <td>1</td>\n",
       "      <td>349909</td>\n",
       "      <td>21.0750</td>\n",
       "      <td>NaN</td>\n",
       "      <td>S</td>\n",
       "    </tr>\n",
       "    <tr>\n",
       "      <th>8</th>\n",
       "      <td>9</td>\n",
       "      <td>1</td>\n",
       "      <td>3</td>\n",
       "      <td>Johnson, Mrs. Oscar W (Elisabeth Vilhelmina Berg)</td>\n",
       "      <td>female</td>\n",
       "      <td>27.0</td>\n",
       "      <td>0</td>\n",
       "      <td>2</td>\n",
       "      <td>347742</td>\n",
       "      <td>11.1333</td>\n",
       "      <td>NaN</td>\n",
       "      <td>S</td>\n",
       "    </tr>\n",
       "    <tr>\n",
       "      <th>9</th>\n",
       "      <td>10</td>\n",
       "      <td>1</td>\n",
       "      <td>2</td>\n",
       "      <td>Nasser, Mrs. Nicholas (Adele Achem)</td>\n",
       "      <td>female</td>\n",
       "      <td>14.0</td>\n",
       "      <td>1</td>\n",
       "      <td>0</td>\n",
       "      <td>237736</td>\n",
       "      <td>30.0708</td>\n",
       "      <td>NaN</td>\n",
       "      <td>C</td>\n",
       "    </tr>\n",
       "  </tbody>\n",
       "</table>\n",
       "</div>"
      ],
      "text/plain": [
       "   PassengerId  Survived  Pclass  \\\n",
       "0            1         0       3   \n",
       "1            2         1       1   \n",
       "2            3         1       3   \n",
       "3            4         1       1   \n",
       "4            5         0       3   \n",
       "5            6         0       3   \n",
       "6            7         0       1   \n",
       "7            8         0       3   \n",
       "8            9         1       3   \n",
       "9           10         1       2   \n",
       "\n",
       "                                                Name     Sex   Age  SibSp  \\\n",
       "0                            Braund, Mr. Owen Harris    male  22.0      1   \n",
       "1  Cumings, Mrs. John Bradley (Florence Briggs Th...  female  38.0      1   \n",
       "2                             Heikkinen, Miss. Laina  female  26.0      0   \n",
       "3       Futrelle, Mrs. Jacques Heath (Lily May Peel)  female  35.0      1   \n",
       "4                           Allen, Mr. William Henry    male  35.0      0   \n",
       "5                                   Moran, Mr. James    male   NaN      0   \n",
       "6                            McCarthy, Mr. Timothy J    male  54.0      0   \n",
       "7                     Palsson, Master. Gosta Leonard    male   2.0      3   \n",
       "8  Johnson, Mrs. Oscar W (Elisabeth Vilhelmina Berg)  female  27.0      0   \n",
       "9                Nasser, Mrs. Nicholas (Adele Achem)  female  14.0      1   \n",
       "\n",
       "   Parch            Ticket     Fare Cabin Embarked  \n",
       "0      0         A/5 21171   7.2500   NaN        S  \n",
       "1      0          PC 17599  71.2833   C85        C  \n",
       "2      0  STON/O2. 3101282   7.9250   NaN        S  \n",
       "3      0            113803  53.1000  C123        S  \n",
       "4      0            373450   8.0500   NaN        S  \n",
       "5      0            330877   8.4583   NaN        Q  \n",
       "6      0             17463  51.8625   E46        S  \n",
       "7      1            349909  21.0750   NaN        S  \n",
       "8      2            347742  11.1333   NaN        S  \n",
       "9      0            237736  30.0708   NaN        C  "
      ]
     },
     "execution_count": 4,
     "metadata": {},
     "output_type": "execute_result"
    }
   ],
   "source": [
    "train_df = pd.read_csv(\"./train.csv\")\n",
    "serving_df = pd.read_csv(\"./test.csv\")\n",
    "\n",
    "train_df.head(10)"
   ]
  },
  {
   "cell_type": "code",
   "execution_count": 5,
   "id": "10a4ac0f-a61e-46bf-9894-1a6ce52d5bf3",
   "metadata": {},
   "outputs": [
    {
     "data": {
      "text/html": [
       "<div>\n",
       "<style scoped>\n",
       "    .dataframe tbody tr th:only-of-type {\n",
       "        vertical-align: middle;\n",
       "    }\n",
       "\n",
       "    .dataframe tbody tr th {\n",
       "        vertical-align: top;\n",
       "    }\n",
       "\n",
       "    .dataframe thead th {\n",
       "        text-align: right;\n",
       "    }\n",
       "</style>\n",
       "<table border=\"1\" class=\"dataframe\">\n",
       "  <thead>\n",
       "    <tr style=\"text-align: right;\">\n",
       "      <th></th>\n",
       "      <th>PassengerId</th>\n",
       "      <th>Survived</th>\n",
       "      <th>Pclass</th>\n",
       "      <th>Name</th>\n",
       "      <th>Sex</th>\n",
       "      <th>Age</th>\n",
       "      <th>SibSp</th>\n",
       "      <th>Parch</th>\n",
       "      <th>Ticket</th>\n",
       "      <th>Fare</th>\n",
       "      <th>Cabin</th>\n",
       "      <th>Embarked</th>\n",
       "      <th>Ticket_number</th>\n",
       "      <th>Ticket_item</th>\n",
       "    </tr>\n",
       "  </thead>\n",
       "  <tbody>\n",
       "    <tr>\n",
       "      <th>0</th>\n",
       "      <td>1</td>\n",
       "      <td>0</td>\n",
       "      <td>3</td>\n",
       "      <td>Braund Mr Owen Harris</td>\n",
       "      <td>male</td>\n",
       "      <td>22.0</td>\n",
       "      <td>1</td>\n",
       "      <td>0</td>\n",
       "      <td>A/5 21171</td>\n",
       "      <td>7.2500</td>\n",
       "      <td>NaN</td>\n",
       "      <td>S</td>\n",
       "      <td>21171</td>\n",
       "      <td>A/5</td>\n",
       "    </tr>\n",
       "    <tr>\n",
       "      <th>1</th>\n",
       "      <td>2</td>\n",
       "      <td>1</td>\n",
       "      <td>1</td>\n",
       "      <td>Cumings Mrs John Bradley Florence Briggs Thayer</td>\n",
       "      <td>female</td>\n",
       "      <td>38.0</td>\n",
       "      <td>1</td>\n",
       "      <td>0</td>\n",
       "      <td>PC 17599</td>\n",
       "      <td>71.2833</td>\n",
       "      <td>C85</td>\n",
       "      <td>C</td>\n",
       "      <td>17599</td>\n",
       "      <td>PC</td>\n",
       "    </tr>\n",
       "    <tr>\n",
       "      <th>2</th>\n",
       "      <td>3</td>\n",
       "      <td>1</td>\n",
       "      <td>3</td>\n",
       "      <td>Heikkinen Miss Laina</td>\n",
       "      <td>female</td>\n",
       "      <td>26.0</td>\n",
       "      <td>0</td>\n",
       "      <td>0</td>\n",
       "      <td>STON/O2. 3101282</td>\n",
       "      <td>7.9250</td>\n",
       "      <td>NaN</td>\n",
       "      <td>S</td>\n",
       "      <td>3101282</td>\n",
       "      <td>STON/O2.</td>\n",
       "    </tr>\n",
       "    <tr>\n",
       "      <th>3</th>\n",
       "      <td>4</td>\n",
       "      <td>1</td>\n",
       "      <td>1</td>\n",
       "      <td>Futrelle Mrs Jacques Heath Lily May Peel</td>\n",
       "      <td>female</td>\n",
       "      <td>35.0</td>\n",
       "      <td>1</td>\n",
       "      <td>0</td>\n",
       "      <td>113803</td>\n",
       "      <td>53.1000</td>\n",
       "      <td>C123</td>\n",
       "      <td>S</td>\n",
       "      <td>113803</td>\n",
       "      <td>NONE</td>\n",
       "    </tr>\n",
       "    <tr>\n",
       "      <th>4</th>\n",
       "      <td>5</td>\n",
       "      <td>0</td>\n",
       "      <td>3</td>\n",
       "      <td>Allen Mr William Henry</td>\n",
       "      <td>male</td>\n",
       "      <td>35.0</td>\n",
       "      <td>0</td>\n",
       "      <td>0</td>\n",
       "      <td>373450</td>\n",
       "      <td>8.0500</td>\n",
       "      <td>NaN</td>\n",
       "      <td>S</td>\n",
       "      <td>373450</td>\n",
       "      <td>NONE</td>\n",
       "    </tr>\n",
       "  </tbody>\n",
       "</table>\n",
       "</div>"
      ],
      "text/plain": [
       "   PassengerId  Survived  Pclass  \\\n",
       "0            1         0       3   \n",
       "1            2         1       1   \n",
       "2            3         1       3   \n",
       "3            4         1       1   \n",
       "4            5         0       3   \n",
       "\n",
       "                                              Name     Sex   Age  SibSp  \\\n",
       "0                            Braund Mr Owen Harris    male  22.0      1   \n",
       "1  Cumings Mrs John Bradley Florence Briggs Thayer  female  38.0      1   \n",
       "2                             Heikkinen Miss Laina  female  26.0      0   \n",
       "3         Futrelle Mrs Jacques Heath Lily May Peel  female  35.0      1   \n",
       "4                           Allen Mr William Henry    male  35.0      0   \n",
       "\n",
       "   Parch            Ticket     Fare Cabin Embarked Ticket_number Ticket_item  \n",
       "0      0         A/5 21171   7.2500   NaN        S         21171         A/5  \n",
       "1      0          PC 17599  71.2833   C85        C         17599          PC  \n",
       "2      0  STON/O2. 3101282   7.9250   NaN        S       3101282    STON/O2.  \n",
       "3      0            113803  53.1000  C123        S        113803        NONE  \n",
       "4      0            373450   8.0500   NaN        S        373450        NONE  "
      ]
     },
     "execution_count": 5,
     "metadata": {},
     "output_type": "execute_result"
    }
   ],
   "source": [
    "def preprocess(df):\n",
    "    df = df.copy()\n",
    "    \n",
    "    def normalize_name(x):\n",
    "        return \" \".join([v.strip(\",()[].\\\"'\") for v in x.split(\" \")])\n",
    "    \n",
    "    def ticket_number(x):\n",
    "        return x.split(\" \")[-1]\n",
    "        \n",
    "    def ticket_item(x):\n",
    "        items = x.split(\" \")\n",
    "        if len(items) == 1:\n",
    "            return \"NONE\"\n",
    "        return \"_\".join(items[0:-1])\n",
    "    \n",
    "    df[\"Name\"] = df[\"Name\"].apply(normalize_name)\n",
    "    df[\"Ticket_number\"] = df[\"Ticket\"].apply(ticket_number)\n",
    "    df[\"Ticket_item\"] = df[\"Ticket\"].apply(ticket_item)                     \n",
    "    return df\n",
    "    \n",
    "preprocessed_train_df = preprocess(train_df)\n",
    "preprocessed_serving_df = preprocess(serving_df)\n",
    "\n",
    "preprocessed_train_df.head(5)"
   ]
  },
  {
   "cell_type": "code",
   "execution_count": 6,
   "id": "746f278a-5f0d-4e9a-9bce-edef27406eb7",
   "metadata": {},
   "outputs": [
    {
     "name": "stdout",
     "output_type": "stream",
     "text": [
      "Input features: ['Pclass', 'Name', 'Sex', 'Age', 'SibSp', 'Parch', 'Fare', 'Cabin', 'Embarked', 'Ticket_number', 'Ticket_item']\n"
     ]
    }
   ],
   "source": [
    "input_features = list(preprocessed_train_df.columns)\n",
    "input_features.remove(\"Ticket\")\n",
    "input_features.remove(\"PassengerId\")\n",
    "input_features.remove(\"Survived\")\n",
    "#input_features.remove(\"Ticket_number\")\n",
    "\n",
    "print(f\"Input features: {input_features}\")"
   ]
  },
  {
   "cell_type": "code",
   "execution_count": 7,
   "id": "faace62e-6b28-47dd-bca4-bc22fb775abc",
   "metadata": {},
   "outputs": [
    {
     "name": "stderr",
     "output_type": "stream",
     "text": [
      "2024-07-06 18:42:05.792083: I external/local_xla/xla/stream_executor/cuda/cuda_executor.cc:984] could not open file to read NUMA node: /sys/bus/pci/devices/0000:09:00.0/numa_node\n",
      "Your kernel may have been built without NUMA support.\n",
      "2024-07-06 18:42:05.807478: I external/local_xla/xla/stream_executor/cuda/cuda_executor.cc:984] could not open file to read NUMA node: /sys/bus/pci/devices/0000:09:00.0/numa_node\n",
      "Your kernel may have been built without NUMA support.\n",
      "2024-07-06 18:42:05.807528: I external/local_xla/xla/stream_executor/cuda/cuda_executor.cc:984] could not open file to read NUMA node: /sys/bus/pci/devices/0000:09:00.0/numa_node\n",
      "Your kernel may have been built without NUMA support.\n",
      "2024-07-06 18:42:05.811446: I external/local_xla/xla/stream_executor/cuda/cuda_executor.cc:984] could not open file to read NUMA node: /sys/bus/pci/devices/0000:09:00.0/numa_node\n",
      "Your kernel may have been built without NUMA support.\n",
      "2024-07-06 18:42:05.811493: I external/local_xla/xla/stream_executor/cuda/cuda_executor.cc:984] could not open file to read NUMA node: /sys/bus/pci/devices/0000:09:00.0/numa_node\n",
      "Your kernel may have been built without NUMA support.\n",
      "2024-07-06 18:42:05.811522: I external/local_xla/xla/stream_executor/cuda/cuda_executor.cc:984] could not open file to read NUMA node: /sys/bus/pci/devices/0000:09:00.0/numa_node\n",
      "Your kernel may have been built without NUMA support.\n",
      "2024-07-06 18:42:05.947640: I external/local_xla/xla/stream_executor/cuda/cuda_executor.cc:984] could not open file to read NUMA node: /sys/bus/pci/devices/0000:09:00.0/numa_node\n",
      "Your kernel may have been built without NUMA support.\n",
      "2024-07-06 18:42:05.947722: I external/local_xla/xla/stream_executor/cuda/cuda_executor.cc:984] could not open file to read NUMA node: /sys/bus/pci/devices/0000:09:00.0/numa_node\n",
      "Your kernel may have been built without NUMA support.\n",
      "2024-07-06 18:42:05.947736: I tensorflow/core/common_runtime/gpu/gpu_device.cc:2019] Could not identify NUMA node of platform GPU id 0, defaulting to 0.  Your kernel may not have been built with NUMA support.\n",
      "2024-07-06 18:42:05.947789: I external/local_xla/xla/stream_executor/cuda/cuda_executor.cc:984] could not open file to read NUMA node: /sys/bus/pci/devices/0000:09:00.0/numa_node\n",
      "Your kernel may have been built without NUMA support.\n",
      "2024-07-06 18:42:05.947811: I tensorflow/core/common_runtime/gpu/gpu_device.cc:1928] Created device /job:localhost/replica:0/task:0/device:GPU:0 with 21458 MB memory:  -> device: 0, name: NVIDIA GeForce RTX 4090, pci bus id: 0000:09:00.0, compute capability: 8.9\n"
     ]
    }
   ],
   "source": [
    "def tokenize_names(features, labels=None):\n",
    "    \"\"\"Divite the names into tokens. TF-DF can consume text tokens natively.\"\"\"\n",
    "    features[\"Name\"] =  tf.strings.split(features[\"Name\"])\n",
    "    return features, labels\n",
    "\n",
    "train_ds = tfdf.keras.pd_dataframe_to_tf_dataset(preprocessed_train_df,label=\"Survived\").map(tokenize_names)\n",
    "serving_ds = tfdf.keras.pd_dataframe_to_tf_dataset(preprocessed_serving_df).map(tokenize_names)"
   ]
  },
  {
   "cell_type": "code",
   "execution_count": 8,
   "id": "92fec7bf-7e49-49c6-b241-bf137c1e2932",
   "metadata": {},
   "outputs": [
    {
     "name": "stderr",
     "output_type": "stream",
     "text": [
      "[WARNING 24-07-06 18:42:06.6567 BST gradient_boosted_trees.cc:1840] \"goss_alpha\" set but \"sampling_method\" not equal to \"GOSS\".\n",
      "[WARNING 24-07-06 18:42:06.6570 BST gradient_boosted_trees.cc:1851] \"goss_beta\" set but \"sampling_method\" not equal to \"GOSS\".\n",
      "[WARNING 24-07-06 18:42:06.6570 BST gradient_boosted_trees.cc:1865] \"selective_gradient_boosting_ratio\" set but \"sampling_method\" not equal to \"SELGB\".\n",
      "[INFO 24-07-06 18:42:08.9732 BST kernel.cc:1233] Loading model from path /tmp/tmp2g1nyfd4/model/ with prefix 5b213ccb388f4e64\n",
      "[INFO 24-07-06 18:42:08.9755 BST quick_scorer_extended.cc:911] The binary was compiled without AVX2 support, but your CPU supports it. Enable it for faster model inference.\n",
      "[INFO 24-07-06 18:42:08.9757 BST abstract_model.cc:1362] Engine \"GradientBoostedTreesQuickScorerExtended\" built\n",
      "[INFO 24-07-06 18:42:08.9757 BST kernel.cc:1061] Use fast generic engine\n"
     ]
    },
    {
     "name": "stdout",
     "output_type": "stream",
     "text": [
      "Accuracy: 0.8260869383811951 Loss:0.8608942627906799\n"
     ]
    }
   ],
   "source": [
    "model = tfdf.keras.GradientBoostedTreesModel(\n",
    "    verbose=0, # Very few logs\n",
    "    features=[tfdf.keras.FeatureUsage(name=n) for n in input_features],\n",
    "    exclude_non_specified_features=True, # Only use the features in \"features\"\n",
    "    random_seed=1234,\n",
    ")\n",
    "model.fit(train_ds)\n",
    "\n",
    "self_evaluation = model.make_inspector().evaluation()\n",
    "print(f\"Accuracy: {self_evaluation.accuracy} Loss:{self_evaluation.loss}\")"
   ]
  },
  {
   "cell_type": "code",
   "execution_count": 9,
   "id": "f4be00f8-3379-4a86-a39d-80047f586473",
   "metadata": {},
   "outputs": [
    {
     "name": "stderr",
     "output_type": "stream",
     "text": [
      "[WARNING 24-07-06 18:42:11.6170 BST gradient_boosted_trees.cc:1840] \"goss_alpha\" set but \"sampling_method\" not equal to \"GOSS\".\n",
      "[WARNING 24-07-06 18:42:11.6170 BST gradient_boosted_trees.cc:1851] \"goss_beta\" set but \"sampling_method\" not equal to \"GOSS\".\n",
      "[WARNING 24-07-06 18:42:11.6170 BST gradient_boosted_trees.cc:1865] \"selective_gradient_boosting_ratio\" set but \"sampling_method\" not equal to \"SELGB\".\n"
     ]
    },
    {
     "name": "stdout",
     "output_type": "stream",
     "text": [
      "Accuracy: 0.782608687877655 Loss:1.0586705207824707\n"
     ]
    },
    {
     "name": "stderr",
     "output_type": "stream",
     "text": [
      "[INFO 24-07-06 18:42:12.3420 BST kernel.cc:1233] Loading model from path /tmp/tmp9xwx7kdk/model/ with prefix 6c787e413488449e\n",
      "[INFO 24-07-06 18:42:12.3447 BST decision_forest.cc:734] Model loaded with 40 root(s), 2106 node(s), and 10 input feature(s).\n",
      "[INFO 24-07-06 18:42:12.3447 BST kernel.cc:1061] Use fast generic engine\n"
     ]
    }
   ],
   "source": [
    "model = tfdf.keras.GradientBoostedTreesModel(\n",
    "    verbose=0, # Very few logs\n",
    "    features=[tfdf.keras.FeatureUsage(name=n) for n in input_features],\n",
    "    exclude_non_specified_features=True, # Only use the features in \"features\"\n",
    "    \n",
    "    #num_trees=2000,\n",
    "    \n",
    "    # Only for GBT.\n",
    "    # A bit slower, but great to understand the model.\n",
    "    # compute_permutation_variable_importance=True,\n",
    "    \n",
    "    # Change the default hyper-parameters\n",
    "    # hyperparameter_template=\"benchmark_rank1@v1\",\n",
    "    \n",
    "    #num_trees=1000,\n",
    "    #tuner=tuner\n",
    "    \n",
    "    min_examples=1,\n",
    "    categorical_algorithm=\"RANDOM\",\n",
    "    #max_depth=4,\n",
    "    shrinkage=0.05,\n",
    "    #num_candidate_attributes_ratio=0.2,\n",
    "    split_axis=\"SPARSE_OBLIQUE\",\n",
    "    sparse_oblique_normalization=\"MIN_MAX\",\n",
    "    sparse_oblique_num_projections_exponent=2.0,\n",
    "    num_trees=2000,\n",
    "    #validation_ratio=0.0,\n",
    "    random_seed=1234,\n",
    "    \n",
    ")\n",
    "model.fit(train_ds)\n",
    "\n",
    "self_evaluation = model.make_inspector().evaluation()\n",
    "print(f\"Accuracy: {self_evaluation.accuracy} Loss:{self_evaluation.loss}\")"
   ]
  },
  {
   "cell_type": "code",
   "execution_count": 10,
   "id": "c11abe00-4cde-459b-be34-adac272dbc7c",
   "metadata": {},
   "outputs": [
    {
     "name": "stdout",
     "output_type": "stream",
     "text": [
      "Model: \"gradient_boosted_trees_model_1\"\n",
      "_________________________________________________________________\n",
      " Layer (type)                Output Shape              Param #   \n",
      "=================================================================\n",
      "=================================================================\n",
      "Total params: 1 (1.00 Byte)\n",
      "Trainable params: 0 (0.00 Byte)\n",
      "Non-trainable params: 1 (1.00 Byte)\n",
      "_________________________________________________________________\n",
      "Type: \"GRADIENT_BOOSTED_TREES\"\n",
      "Task: CLASSIFICATION\n",
      "Label: \"__LABEL\"\n",
      "\n",
      "Input Features (11):\n",
      "\tAge\n",
      "\tCabin\n",
      "\tEmbarked\n",
      "\tFare\n",
      "\tName\n",
      "\tParch\n",
      "\tPclass\n",
      "\tSex\n",
      "\tSibSp\n",
      "\tTicket_item\n",
      "\tTicket_number\n",
      "\n",
      "No weights\n",
      "\n",
      "Variable Importance: INV_MEAN_MIN_DEPTH:\n",
      "    1.           \"Sex\"  0.585997 ################\n",
      "    2.           \"Age\"  0.364636 #######\n",
      "    3.          \"Fare\"  0.266191 ###\n",
      "    4.          \"Name\"  0.207054 #\n",
      "    5.        \"Pclass\"  0.179191 \n",
      "    6. \"Ticket_number\"  0.178806 \n",
      "    7.      \"Embarked\"  0.177803 \n",
      "    8.   \"Ticket_item\"  0.177009 \n",
      "    9.         \"Parch\"  0.175276 \n",
      "   10.         \"SibSp\"  0.171694 \n",
      "\n",
      "Variable Importance: NUM_AS_ROOT:\n",
      "    1.  \"Sex\" 34.000000 ################\n",
      "    2. \"Name\"  6.000000 \n",
      "\n",
      "Variable Importance: NUM_NODES:\n",
      "    1.           \"Age\" 510.000000 ################\n",
      "    2.          \"Fare\" 298.000000 #########\n",
      "    3.          \"Name\" 60.000000 #\n",
      "    4.   \"Ticket_item\" 47.000000 #\n",
      "    5.           \"Sex\" 40.000000 #\n",
      "    6.         \"Parch\" 22.000000 \n",
      "    7. \"Ticket_number\" 20.000000 \n",
      "    8.      \"Embarked\" 15.000000 \n",
      "    9.        \"Pclass\" 15.000000 \n",
      "   10.         \"SibSp\"  6.000000 \n",
      "\n",
      "Variable Importance: SUM_SCORE:\n",
      "    1.           \"Sex\" 482.453470 ################\n",
      "    2.           \"Age\" 390.670218 ############\n",
      "    3.          \"Fare\" 321.170935 ##########\n",
      "    4.          \"Name\" 102.043860 ###\n",
      "    5.        \"Pclass\" 26.605919 \n",
      "    6.   \"Ticket_item\" 22.954813 \n",
      "    7. \"Ticket_number\" 17.413948 \n",
      "    8.      \"Embarked\"  8.969861 \n",
      "    9.         \"Parch\"  6.947528 \n",
      "   10.         \"SibSp\"  0.455899 \n",
      "\n",
      "\n",
      "\n",
      "Loss: BINOMIAL_LOG_LIKELIHOOD\n",
      "Validation loss value: 1.05867\n",
      "Number of trees per iteration: 1\n",
      "Node format: NOT_SET\n",
      "Number of trees: 40\n",
      "Total number of nodes: 2106\n",
      "\n",
      "Number of nodes by tree:\n",
      "Count: 40 Average: 52.65 StdDev: 4.2869\n",
      "Min: 41 Max: 61 Ignored: 0\n",
      "----------------------------------------------\n",
      "[ 41, 42)  2   5.00%   5.00% ##\n",
      "[ 42, 43)  0   0.00%   5.00%\n",
      "[ 43, 44)  0   0.00%   5.00%\n",
      "[ 44, 45)  0   0.00%   5.00%\n",
      "[ 45, 46)  0   0.00%   5.00%\n",
      "[ 46, 47)  0   0.00%   5.00%\n",
      "[ 47, 48)  4  10.00%  15.00% ####\n",
      "[ 48, 49)  0   0.00%  15.00%\n",
      "[ 49, 50)  3   7.50%  22.50% ###\n",
      "[ 50, 51)  0   0.00%  22.50%\n",
      "[ 51, 52)  4  10.00%  32.50% ####\n",
      "[ 52, 53)  0   0.00%  32.50%\n",
      "[ 53, 54) 11  27.50%  60.00% ##########\n",
      "[ 54, 55)  0   0.00%  60.00%\n",
      "[ 55, 56) 10  25.00%  85.00% #########\n",
      "[ 56, 57)  0   0.00%  85.00%\n",
      "[ 57, 58)  2   5.00%  90.00% ##\n",
      "[ 58, 59)  0   0.00%  90.00%\n",
      "[ 59, 60)  3   7.50%  97.50% ###\n",
      "[ 60, 61]  1   2.50% 100.00% #\n",
      "\n",
      "Depth by leafs:\n",
      "Count: 1073 Average: 4.84623 StdDev: 0.454477\n",
      "Min: 2 Max: 5 Ignored: 0\n",
      "----------------------------------------------\n",
      "[ 2, 3)   1   0.09%   0.09%\n",
      "[ 3, 4)  38   3.54%   3.63%\n",
      "[ 4, 5)  86   8.01%  11.65% #\n",
      "[ 5, 5] 948  88.35% 100.00% ##########\n",
      "\n",
      "Number of training obs by leaf:\n",
      "Count: 1073 Average: 29.7856 StdDev: 71.8675\n",
      "Min: 1 Max: 458 Ignored: 0\n",
      "----------------------------------------------\n",
      "[   1,  23) 846  78.84%  78.84% ##########\n",
      "[  23,  46)  62   5.78%  84.62% #\n",
      "[  46,  69)  48   4.47%  89.10% #\n",
      "[  69,  92)  21   1.96%  91.05%\n",
      "[  92, 115)  10   0.93%  91.99%\n",
      "[ 115, 138)  15   1.40%  93.38%\n",
      "[ 138, 161)  23   2.14%  95.53%\n",
      "[ 161, 184)   6   0.56%  96.09%\n",
      "[ 184, 207)   3   0.28%  96.37%\n",
      "[ 207, 230)   4   0.37%  96.74%\n",
      "[ 230, 252)   1   0.09%  96.83%\n",
      "[ 252, 275)   1   0.09%  96.92%\n",
      "[ 275, 298)   2   0.19%  97.11%\n",
      "[ 298, 321)   2   0.19%  97.30%\n",
      "[ 321, 344)   0   0.00%  97.30%\n",
      "[ 344, 367)   9   0.84%  98.14%\n",
      "[ 367, 390)   6   0.56%  98.70%\n",
      "[ 390, 413)   9   0.84%  99.53%\n",
      "[ 413, 436)   4   0.37%  99.91%\n",
      "[ 436, 458]   1   0.09% 100.00%\n",
      "\n",
      "Attribute in nodes:\n",
      "\t510 : Age [NUMERICAL]\n",
      "\t298 : Fare [NUMERICAL]\n",
      "\t60 : Name [CATEGORICAL_SET]\n",
      "\t47 : Ticket_item [CATEGORICAL]\n",
      "\t40 : Sex [CATEGORICAL]\n",
      "\t22 : Parch [NUMERICAL]\n",
      "\t20 : Ticket_number [CATEGORICAL]\n",
      "\t15 : Pclass [NUMERICAL]\n",
      "\t15 : Embarked [CATEGORICAL]\n",
      "\t6 : SibSp [NUMERICAL]\n",
      "\n",
      "Attribute in nodes with depth <= 0:\n",
      "\t34 : Sex [CATEGORICAL]\n",
      "\t6 : Name [CATEGORICAL_SET]\n",
      "\n",
      "Attribute in nodes with depth <= 1:\n",
      "\t48 : Age [NUMERICAL]\n",
      "\t34 : Sex [CATEGORICAL]\n",
      "\t25 : Fare [NUMERICAL]\n",
      "\t6 : Name [CATEGORICAL_SET]\n",
      "\t5 : Pclass [NUMERICAL]\n",
      "\t2 : Ticket_number [CATEGORICAL]\n",
      "\n",
      "Attribute in nodes with depth <= 2:\n",
      "\t121 : Age [NUMERICAL]\n",
      "\t74 : Fare [NUMERICAL]\n",
      "\t34 : Sex [CATEGORICAL]\n",
      "\t19 : Name [CATEGORICAL_SET]\n",
      "\t8 : Ticket_number [CATEGORICAL]\n",
      "\t8 : Embarked [CATEGORICAL]\n",
      "\t6 : Pclass [NUMERICAL]\n",
      "\t6 : Parch [NUMERICAL]\n",
      "\t3 : Ticket_item [CATEGORICAL]\n",
      "\n",
      "Attribute in nodes with depth <= 3:\n",
      "\t261 : Age [NUMERICAL]\n",
      "\t164 : Fare [NUMERICAL]\n",
      "\t36 : Sex [CATEGORICAL]\n",
      "\t35 : Name [CATEGORICAL_SET]\n",
      "\t16 : Ticket_item [CATEGORICAL]\n",
      "\t13 : Ticket_number [CATEGORICAL]\n",
      "\t12 : Embarked [CATEGORICAL]\n",
      "\t11 : Parch [NUMERICAL]\n",
      "\t9 : Pclass [NUMERICAL]\n",
      "\t2 : SibSp [NUMERICAL]\n",
      "\n",
      "Attribute in nodes with depth <= 5:\n",
      "\t510 : Age [NUMERICAL]\n",
      "\t298 : Fare [NUMERICAL]\n",
      "\t60 : Name [CATEGORICAL_SET]\n",
      "\t47 : Ticket_item [CATEGORICAL]\n",
      "\t40 : Sex [CATEGORICAL]\n",
      "\t22 : Parch [NUMERICAL]\n",
      "\t20 : Ticket_number [CATEGORICAL]\n",
      "\t15 : Pclass [NUMERICAL]\n",
      "\t15 : Embarked [CATEGORICAL]\n",
      "\t6 : SibSp [NUMERICAL]\n",
      "\n",
      "Condition type in nodes:\n",
      "\t851 : ObliqueCondition\n",
      "\t135 : ContainsBitmapCondition\n",
      "\t47 : ContainsCondition\n",
      "Condition type in nodes with depth <= 0:\n",
      "\t38 : ContainsBitmapCondition\n",
      "\t2 : ContainsCondition\n",
      "Condition type in nodes with depth <= 1:\n",
      "\t78 : ObliqueCondition\n",
      "\t40 : ContainsBitmapCondition\n",
      "\t2 : ContainsCondition\n",
      "Condition type in nodes with depth <= 2:\n",
      "\t207 : ObliqueCondition\n",
      "\t58 : ContainsBitmapCondition\n",
      "\t14 : ContainsCondition\n",
      "Condition type in nodes with depth <= 3:\n",
      "\t447 : ObliqueCondition\n",
      "\t83 : ContainsBitmapCondition\n",
      "\t29 : ContainsCondition\n",
      "Condition type in nodes with depth <= 5:\n",
      "\t851 : ObliqueCondition\n",
      "\t135 : ContainsBitmapCondition\n",
      "\t47 : ContainsCondition\n",
      "\n",
      "Training logs:\n",
      "Number of iteration to final model: 40\n",
      "\tIter:1 train-loss:1.264594 valid-loss:1.360749  train-accuracy:0.624531 valid-accuracy:0.543478\n",
      "\tIter:2 train-loss:1.210623 valid-loss:1.320363  train-accuracy:0.624531 valid-accuracy:0.543478\n",
      "\tIter:3 train-loss:1.160657 valid-loss:1.281972  train-accuracy:0.624531 valid-accuracy:0.543478\n",
      "\tIter:4 train-loss:1.116982 valid-loss:1.250548  train-accuracy:0.624531 valid-accuracy:0.543478\n",
      "\tIter:5 train-loss:1.075170 valid-loss:1.221467  train-accuracy:0.807259 valid-accuracy:0.760870\n",
      "\tIter:6 train-loss:1.035656 valid-loss:1.199482  train-accuracy:0.822278 valid-accuracy:0.760870\n",
      "\tIter:16 train-loss:0.787670 valid-loss:1.088161  train-accuracy:0.903630 valid-accuracy:0.771739\n",
      "\tIter:26 train-loss:0.647960 valid-loss:1.065191  train-accuracy:0.922403 valid-accuracy:0.782609\n",
      "\tIter:36 train-loss:0.557737 valid-loss:1.071260  train-accuracy:0.922403 valid-accuracy:0.782609\n",
      "\tIter:46 train-loss:0.494259 valid-loss:1.063639  train-accuracy:0.927409 valid-accuracy:0.771739\n",
      "\tIter:56 train-loss:0.443537 valid-loss:1.070069  train-accuracy:0.939925 valid-accuracy:0.760870\n",
      "\tIter:66 train-loss:0.404514 valid-loss:1.081874  train-accuracy:0.949937 valid-accuracy:0.760870\n",
      "\n"
     ]
    }
   ],
   "source": [
    "model.summary()"
   ]
  },
  {
   "cell_type": "markdown",
   "id": "22f7d150-a7ff-4e8d-93e4-448fe920b080",
   "metadata": {},
   "source": [
    "# Make predictions"
   ]
  },
  {
   "cell_type": "code",
   "execution_count": 11,
   "id": "f094ce82-43ab-4176-a08b-8e727f860e37",
   "metadata": {},
   "outputs": [
    {
     "name": "stdout",
     "output_type": "stream",
     "text": [
      "Submission exported to ./submission.csv\n",
      "PassengerId,Survived\n",
      "892,0\n",
      "893,0\n",
      "894,0\n",
      "895,0\n",
      "896,0\n",
      "897,0\n",
      "898,0\n",
      "899,0\n",
      "900,1\n"
     ]
    }
   ],
   "source": [
    "def prediction_to_kaggle_format(model, threshold=0.5):\n",
    "    proba_survive = model.predict(serving_ds, verbose=0)[:,0]\n",
    "    return pd.DataFrame({\n",
    "        \"PassengerId\": serving_df[\"PassengerId\"],\n",
    "        \"Survived\": (proba_survive >= threshold).astype(int)\n",
    "    })\n",
    "\n",
    "def make_submission(kaggle_predictions):\n",
    "    path=\"./submission.csv\"\n",
    "    kaggle_predictions.to_csv(path, index=False)\n",
    "    print(f\"Submission exported to {path}\")\n",
    "    \n",
    "kaggle_predictions = prediction_to_kaggle_format(model)\n",
    "make_submission(kaggle_predictions)\n",
    "!head ./submission.csv"
   ]
  },
  {
   "cell_type": "markdown",
   "id": "3be669f6-cf9f-46be-a2fb-404fb5346c33",
   "metadata": {},
   "source": [
    "HP Tuning"
   ]
  },
  {
   "cell_type": "code",
   "execution_count": 12,
   "id": "1c31cc23-5e3c-4dac-b53a-6f858ec54df5",
   "metadata": {},
   "outputs": [
    {
     "name": "stdout",
     "output_type": "stream",
     "text": [
      "Warning: The `num_threads` constructor argument is not set and the number of CPU is os.cpu_count()=32 > 32. Setting num_threads to 32. Set num_threads manually to use more than 32 cpus.\n"
     ]
    },
    {
     "name": "stderr",
     "output_type": "stream",
     "text": [
      "WARNING:absl:The `num_threads` constructor argument is not set and the number of CPU is os.cpu_count()=32 > 32. Setting num_threads to 32. Set num_threads manually to use more than 32 cpus.\n"
     ]
    },
    {
     "name": "stdout",
     "output_type": "stream",
     "text": [
      "Use /tmp/tmpby3h9v2r as temporary training directory\n"
     ]
    },
    {
     "name": "stderr",
     "output_type": "stream",
     "text": [
      "[WARNING 24-07-06 18:42:12.7314 BST gradient_boosted_trees.cc:1840] \"goss_alpha\" set but \"sampling_method\" not equal to \"GOSS\".\n",
      "[WARNING 24-07-06 18:42:12.7314 BST gradient_boosted_trees.cc:1851] \"goss_beta\" set but \"sampling_method\" not equal to \"GOSS\".\n",
      "[WARNING 24-07-06 18:42:12.7314 BST gradient_boosted_trees.cc:1865] \"selective_gradient_boosting_ratio\" set but \"sampling_method\" not equal to \"SELGB\".\n"
     ]
    },
    {
     "name": "stdout",
     "output_type": "stream",
     "text": [
      "Accuracy: 0.8630136847496033 Loss:0.6749962568283081\n"
     ]
    },
    {
     "name": "stderr",
     "output_type": "stream",
     "text": [
      "[INFO 24-07-06 18:45:11.1796 BST kernel.cc:1233] Loading model from path /tmp/tmpby3h9v2r/model/ with prefix 7b5865e37f774819\n",
      "[INFO 24-07-06 18:45:11.1864 BST decision_forest.cc:734] Model loaded with 30 root(s), 2236 node(s), and 12 input feature(s).\n",
      "[INFO 24-07-06 18:45:11.1865 BST abstract_model.cc:1362] Engine \"GradientBoostedTreesGeneric\" built\n",
      "[INFO 24-07-06 18:45:11.1865 BST kernel.cc:1061] Use fast generic engine\n"
     ]
    }
   ],
   "source": [
    "tuner = tfdf.tuner.RandomSearch(num_trials=1000)\n",
    "tuner.choice(\"min_examples\", [2, 5, 7, 10])\n",
    "tuner.choice(\"categorical_algorithm\", [\"CART\", \"RANDOM\"])\n",
    "\n",
    "local_search_space = tuner.choice(\"growing_strategy\", [\"LOCAL\"])\n",
    "local_search_space.choice(\"max_depth\", [3, 4, 5, 6, 8])\n",
    "\n",
    "global_search_space = tuner.choice(\"growing_strategy\", [\"BEST_FIRST_GLOBAL\"], merge=True)\n",
    "global_search_space.choice(\"max_num_nodes\", [16, 32, 64, 128, 256])\n",
    "\n",
    "# tuner.choice(\"use_hessian_gain\", [True, False])\n",
    "tuner.choice(\"shrinkage\", [0.02, 0.05, 0.10, 0.15])\n",
    "tuner.choice(\"num_candidate_attributes_ratio\", [0.2, 0.5, 0.9, 1.0])\n",
    "\n",
    "\n",
    "tuner.choice(\"split_axis\", [\"AXIS_ALIGNED\"])\n",
    "oblique_space = tuner.choice(\"split_axis\", [\"SPARSE_OBLIQUE\"], merge=True)\n",
    "oblique_space.choice(\"sparse_oblique_normalization\",\n",
    "                     [\"NONE\", \"STANDARD_DEVIATION\", \"MIN_MAX\"])\n",
    "oblique_space.choice(\"sparse_oblique_weights\", [\"BINARY\", \"CONTINUOUS\"])\n",
    "oblique_space.choice(\"sparse_oblique_num_projections_exponent\", [1.0, 1.5])\n",
    "\n",
    "# Tune the model. Notice the `tuner=tuner`.\n",
    "tuned_model = tfdf.keras.GradientBoostedTreesModel(tuner=tuner)\n",
    "# tuned_model = tfdf.keras.RandomForestModel(tuner=tuner)\n",
    "tuned_model.fit(train_ds, verbose=0)\n",
    "\n",
    "tuned_self_evaluation = tuned_model.make_inspector().evaluation()\n",
    "print(f\"Accuracy: {tuned_self_evaluation.accuracy} Loss:{tuned_self_evaluation.loss}\")"
   ]
  },
  {
   "cell_type": "markdown",
   "id": "41c1dbd1-7e63-4ad7-8934-3b8f946d5a09",
   "metadata": {},
   "source": [
    "# Ensemble"
   ]
  },
  {
   "cell_type": "code",
   "execution_count": 15,
   "id": "5703b6e1-e775-4b22-ae82-954e35cb4cf0",
   "metadata": {},
   "outputs": [
    {
     "name": "stdout",
     "output_type": "stream",
     "text": [
      "i:0\n"
     ]
    },
    {
     "name": "stderr",
     "output_type": "stream",
     "text": [
      "[INFO 24-07-06 18:33:33.9321 BST kernel.cc:1233] Loading model from path /tmp/tmp_5649nlo/model/ with prefix aeb57b6bdb224985\n",
      "[WARNING 24-07-06 18:33:33.9826 BST abstract_model.cc:1357] The engine \"RandomForestGeneric\" is compatible but could not be created: This inference engine optimized for speed only supports model outputting out-of-bag values. This can be caused by two errors: 1) Have rare label values (by default <10 on the entire training dataset) and not setting \"min_vocab_frequency\" appropriately. 2) Having \"is_already_integerized=true\" and providing label with \"OOB\"(=0) values during training.\n",
      "[INFO 24-07-06 18:33:33.9826 BST kernel.cc:1079] Use slow generic engine\n"
     ]
    },
    {
     "name": "stdout",
     "output_type": "stream",
     "text": [
      "i:1\n"
     ]
    },
    {
     "name": "stderr",
     "output_type": "stream",
     "text": [
      "[INFO 24-07-06 18:33:34.5455 BST kernel.cc:1233] Loading model from path /tmp/tmp9gwdwreh/model/ with prefix 76c203cdf9534fc3\n",
      "[WARNING 24-07-06 18:33:34.5842 BST abstract_model.cc:1357] The engine \"RandomForestGeneric\" is compatible but could not be created: This inference engine optimized for speed only supports model outputting out-of-bag values. This can be caused by two errors: 1) Have rare label values (by default <10 on the entire training dataset) and not setting \"min_vocab_frequency\" appropriately. 2) Having \"is_already_integerized=true\" and providing label with \"OOB\"(=0) values during training.\n",
      "[INFO 24-07-06 18:33:34.5842 BST kernel.cc:1079] Use slow generic engine\n"
     ]
    },
    {
     "name": "stdout",
     "output_type": "stream",
     "text": [
      "i:2\n"
     ]
    },
    {
     "name": "stderr",
     "output_type": "stream",
     "text": [
      "[INFO 24-07-06 18:33:35.1162 BST kernel.cc:1233] Loading model from path /tmp/tmprb8oonlo/model/ with prefix e3440da2cf28456e\n",
      "[WARNING 24-07-06 18:33:35.1550 BST abstract_model.cc:1357] The engine \"RandomForestGeneric\" is compatible but could not be created: This inference engine optimized for speed only supports model outputting out-of-bag values. This can be caused by two errors: 1) Have rare label values (by default <10 on the entire training dataset) and not setting \"min_vocab_frequency\" appropriately. 2) Having \"is_already_integerized=true\" and providing label with \"OOB\"(=0) values during training.\n",
      "[INFO 24-07-06 18:33:35.1551 BST kernel.cc:1079] Use slow generic engine\n"
     ]
    },
    {
     "name": "stdout",
     "output_type": "stream",
     "text": [
      "i:3\n"
     ]
    },
    {
     "name": "stderr",
     "output_type": "stream",
     "text": [
      "[INFO 24-07-06 18:33:35.6895 BST kernel.cc:1233] Loading model from path /tmp/tmpte2le5e7/model/ with prefix f0a12b70b1ce42fc\n",
      "[WARNING 24-07-06 18:33:35.7305 BST abstract_model.cc:1357] The engine \"RandomForestGeneric\" is compatible but could not be created: This inference engine optimized for speed only supports model outputting out-of-bag values. This can be caused by two errors: 1) Have rare label values (by default <10 on the entire training dataset) and not setting \"min_vocab_frequency\" appropriately. 2) Having \"is_already_integerized=true\" and providing label with \"OOB\"(=0) values during training.\n",
      "[INFO 24-07-06 18:33:35.7305 BST kernel.cc:1079] Use slow generic engine\n"
     ]
    },
    {
     "name": "stdout",
     "output_type": "stream",
     "text": [
      "i:4\n"
     ]
    },
    {
     "name": "stderr",
     "output_type": "stream",
     "text": [
      "[INFO 24-07-06 18:33:36.2824 BST kernel.cc:1233] Loading model from path /tmp/tmph6c8qud4/model/ with prefix 3945469ff1144eea\n",
      "[WARNING 24-07-06 18:33:36.3208 BST abstract_model.cc:1357] The engine \"RandomForestGeneric\" is compatible but could not be created: This inference engine optimized for speed only supports model outputting out-of-bag values. This can be caused by two errors: 1) Have rare label values (by default <10 on the entire training dataset) and not setting \"min_vocab_frequency\" appropriately. 2) Having \"is_already_integerized=true\" and providing label with \"OOB\"(=0) values during training.\n",
      "[INFO 24-07-06 18:33:36.3208 BST kernel.cc:1079] Use slow generic engine\n"
     ]
    },
    {
     "name": "stdout",
     "output_type": "stream",
     "text": [
      "i:5\n"
     ]
    },
    {
     "name": "stderr",
     "output_type": "stream",
     "text": [
      "[INFO 24-07-06 18:33:36.8765 BST kernel.cc:1233] Loading model from path /tmp/tmppvqwcybo/model/ with prefix 35fd1aa79e4344ed\n",
      "[WARNING 24-07-06 18:33:36.9147 BST abstract_model.cc:1357] The engine \"RandomForestGeneric\" is compatible but could not be created: This inference engine optimized for speed only supports model outputting out-of-bag values. This can be caused by two errors: 1) Have rare label values (by default <10 on the entire training dataset) and not setting \"min_vocab_frequency\" appropriately. 2) Having \"is_already_integerized=true\" and providing label with \"OOB\"(=0) values during training.\n",
      "[INFO 24-07-06 18:33:36.9147 BST kernel.cc:1079] Use slow generic engine\n"
     ]
    },
    {
     "name": "stdout",
     "output_type": "stream",
     "text": [
      "i:6\n"
     ]
    },
    {
     "name": "stderr",
     "output_type": "stream",
     "text": [
      "[INFO 24-07-06 18:33:37.4495 BST kernel.cc:1233] Loading model from path /tmp/tmpox62u7c5/model/ with prefix 981bd1e2a60c4087\n",
      "[WARNING 24-07-06 18:33:37.4892 BST abstract_model.cc:1357] The engine \"RandomForestGeneric\" is compatible but could not be created: This inference engine optimized for speed only supports model outputting out-of-bag values. This can be caused by two errors: 1) Have rare label values (by default <10 on the entire training dataset) and not setting \"min_vocab_frequency\" appropriately. 2) Having \"is_already_integerized=true\" and providing label with \"OOB\"(=0) values during training.\n",
      "[INFO 24-07-06 18:33:37.4893 BST kernel.cc:1079] Use slow generic engine\n"
     ]
    },
    {
     "name": "stdout",
     "output_type": "stream",
     "text": [
      "i:7\n"
     ]
    },
    {
     "name": "stderr",
     "output_type": "stream",
     "text": [
      "[INFO 24-07-06 18:33:38.0452 BST kernel.cc:1233] Loading model from path /tmp/tmpvh0zm87h/model/ with prefix 3b2f0e6a995a47d9\n",
      "[WARNING 24-07-06 18:33:38.0836 BST abstract_model.cc:1357] The engine \"RandomForestGeneric\" is compatible but could not be created: This inference engine optimized for speed only supports model outputting out-of-bag values. This can be caused by two errors: 1) Have rare label values (by default <10 on the entire training dataset) and not setting \"min_vocab_frequency\" appropriately. 2) Having \"is_already_integerized=true\" and providing label with \"OOB\"(=0) values during training.\n",
      "[INFO 24-07-06 18:33:38.0836 BST kernel.cc:1079] Use slow generic engine\n"
     ]
    },
    {
     "name": "stdout",
     "output_type": "stream",
     "text": [
      "i:8\n"
     ]
    },
    {
     "name": "stderr",
     "output_type": "stream",
     "text": [
      "[INFO 24-07-06 18:33:38.6238 BST kernel.cc:1233] Loading model from path /tmp/tmpb2b2nvmr/model/ with prefix 2a02088f4f324365\n",
      "[WARNING 24-07-06 18:33:38.6635 BST abstract_model.cc:1357] The engine \"RandomForestGeneric\" is compatible but could not be created: This inference engine optimized for speed only supports model outputting out-of-bag values. This can be caused by two errors: 1) Have rare label values (by default <10 on the entire training dataset) and not setting \"min_vocab_frequency\" appropriately. 2) Having \"is_already_integerized=true\" and providing label with \"OOB\"(=0) values during training.\n",
      "[INFO 24-07-06 18:33:38.6635 BST kernel.cc:1079] Use slow generic engine\n"
     ]
    },
    {
     "name": "stdout",
     "output_type": "stream",
     "text": [
      "i:9\n"
     ]
    },
    {
     "name": "stderr",
     "output_type": "stream",
     "text": [
      "[INFO 24-07-06 18:33:39.2411 BST kernel.cc:1233] Loading model from path /tmp/tmp7w3l2zkx/model/ with prefix 8761b7984cf940ec\n",
      "[WARNING 24-07-06 18:33:39.2829 BST abstract_model.cc:1357] The engine \"RandomForestGeneric\" is compatible but could not be created: This inference engine optimized for speed only supports model outputting out-of-bag values. This can be caused by two errors: 1) Have rare label values (by default <10 on the entire training dataset) and not setting \"min_vocab_frequency\" appropriately. 2) Having \"is_already_integerized=true\" and providing label with \"OOB\"(=0) values during training.\n",
      "[INFO 24-07-06 18:33:39.2829 BST kernel.cc:1079] Use slow generic engine\n"
     ]
    },
    {
     "name": "stdout",
     "output_type": "stream",
     "text": [
      "i:10\n"
     ]
    },
    {
     "name": "stderr",
     "output_type": "stream",
     "text": [
      "[INFO 24-07-06 18:33:39.8184 BST kernel.cc:1233] Loading model from path /tmp/tmpfbq9pdm0/model/ with prefix 30a606db35eb4149\n",
      "[WARNING 24-07-06 18:33:39.8607 BST abstract_model.cc:1357] The engine \"RandomForestGeneric\" is compatible but could not be created: This inference engine optimized for speed only supports model outputting out-of-bag values. This can be caused by two errors: 1) Have rare label values (by default <10 on the entire training dataset) and not setting \"min_vocab_frequency\" appropriately. 2) Having \"is_already_integerized=true\" and providing label with \"OOB\"(=0) values during training.\n",
      "[INFO 24-07-06 18:33:39.8608 BST kernel.cc:1079] Use slow generic engine\n"
     ]
    },
    {
     "name": "stdout",
     "output_type": "stream",
     "text": [
      "i:11\n"
     ]
    },
    {
     "name": "stderr",
     "output_type": "stream",
     "text": [
      "[INFO 24-07-06 18:33:40.4157 BST kernel.cc:1233] Loading model from path /tmp/tmp0pf8ov3g/model/ with prefix 988d1bc5cc76400f\n",
      "[WARNING 24-07-06 18:33:40.4547 BST abstract_model.cc:1357] The engine \"RandomForestGeneric\" is compatible but could not be created: This inference engine optimized for speed only supports model outputting out-of-bag values. This can be caused by two errors: 1) Have rare label values (by default <10 on the entire training dataset) and not setting \"min_vocab_frequency\" appropriately. 2) Having \"is_already_integerized=true\" and providing label with \"OOB\"(=0) values during training.\n",
      "[INFO 24-07-06 18:33:40.4547 BST kernel.cc:1079] Use slow generic engine\n"
     ]
    },
    {
     "name": "stdout",
     "output_type": "stream",
     "text": [
      "i:12\n"
     ]
    },
    {
     "name": "stderr",
     "output_type": "stream",
     "text": [
      "[INFO 24-07-06 18:33:41.0009 BST kernel.cc:1233] Loading model from path /tmp/tmp26kggmpd/model/ with prefix c2ff554aa2b3432d\n",
      "[WARNING 24-07-06 18:33:41.0413 BST abstract_model.cc:1357] The engine \"RandomForestGeneric\" is compatible but could not be created: This inference engine optimized for speed only supports model outputting out-of-bag values. This can be caused by two errors: 1) Have rare label values (by default <10 on the entire training dataset) and not setting \"min_vocab_frequency\" appropriately. 2) Having \"is_already_integerized=true\" and providing label with \"OOB\"(=0) values during training.\n",
      "[INFO 24-07-06 18:33:41.0413 BST kernel.cc:1079] Use slow generic engine\n"
     ]
    },
    {
     "name": "stdout",
     "output_type": "stream",
     "text": [
      "i:13\n"
     ]
    },
    {
     "name": "stderr",
     "output_type": "stream",
     "text": [
      "[INFO 24-07-06 18:33:41.5770 BST kernel.cc:1233] Loading model from path /tmp/tmp1l32osax/model/ with prefix a3a3622a1751469c\n",
      "[WARNING 24-07-06 18:33:41.6162 BST abstract_model.cc:1357] The engine \"RandomForestGeneric\" is compatible but could not be created: This inference engine optimized for speed only supports model outputting out-of-bag values. This can be caused by two errors: 1) Have rare label values (by default <10 on the entire training dataset) and not setting \"min_vocab_frequency\" appropriately. 2) Having \"is_already_integerized=true\" and providing label with \"OOB\"(=0) values during training.\n",
      "[INFO 24-07-06 18:33:41.6163 BST kernel.cc:1079] Use slow generic engine\n"
     ]
    },
    {
     "name": "stdout",
     "output_type": "stream",
     "text": [
      "i:14\n"
     ]
    },
    {
     "name": "stderr",
     "output_type": "stream",
     "text": [
      "[INFO 24-07-06 18:33:42.1409 BST kernel.cc:1233] Loading model from path /tmp/tmps_wxg9mo/model/ with prefix 1f96a4d5b2974892\n",
      "[WARNING 24-07-06 18:33:42.1812 BST abstract_model.cc:1357] The engine \"RandomForestGeneric\" is compatible but could not be created: This inference engine optimized for speed only supports model outputting out-of-bag values. This can be caused by two errors: 1) Have rare label values (by default <10 on the entire training dataset) and not setting \"min_vocab_frequency\" appropriately. 2) Having \"is_already_integerized=true\" and providing label with \"OOB\"(=0) values during training.\n",
      "[INFO 24-07-06 18:33:42.1812 BST kernel.cc:1079] Use slow generic engine\n"
     ]
    },
    {
     "name": "stdout",
     "output_type": "stream",
     "text": [
      "i:15\n"
     ]
    },
    {
     "name": "stderr",
     "output_type": "stream",
     "text": [
      "[INFO 24-07-06 18:33:42.7149 BST kernel.cc:1233] Loading model from path /tmp/tmpacxp_kyp/model/ with prefix 31b3791e37904203\n",
      "[WARNING 24-07-06 18:33:42.7554 BST abstract_model.cc:1357] The engine \"RandomForestGeneric\" is compatible but could not be created: This inference engine optimized for speed only supports model outputting out-of-bag values. This can be caused by two errors: 1) Have rare label values (by default <10 on the entire training dataset) and not setting \"min_vocab_frequency\" appropriately. 2) Having \"is_already_integerized=true\" and providing label with \"OOB\"(=0) values during training.\n",
      "[INFO 24-07-06 18:33:42.7554 BST kernel.cc:1079] Use slow generic engine\n"
     ]
    },
    {
     "name": "stdout",
     "output_type": "stream",
     "text": [
      "i:16\n"
     ]
    },
    {
     "name": "stderr",
     "output_type": "stream",
     "text": [
      "[INFO 24-07-06 18:33:43.2871 BST kernel.cc:1233] Loading model from path /tmp/tmpqd9hof62/model/ with prefix ec31aeb0c5034b4b\n",
      "[WARNING 24-07-06 18:33:43.3275 BST abstract_model.cc:1357] The engine \"RandomForestGeneric\" is compatible but could not be created: This inference engine optimized for speed only supports model outputting out-of-bag values. This can be caused by two errors: 1) Have rare label values (by default <10 on the entire training dataset) and not setting \"min_vocab_frequency\" appropriately. 2) Having \"is_already_integerized=true\" and providing label with \"OOB\"(=0) values during training.\n",
      "[INFO 24-07-06 18:33:43.3275 BST kernel.cc:1079] Use slow generic engine\n"
     ]
    },
    {
     "name": "stdout",
     "output_type": "stream",
     "text": [
      "i:17\n"
     ]
    },
    {
     "name": "stderr",
     "output_type": "stream",
     "text": [
      "[INFO 24-07-06 18:33:43.8583 BST kernel.cc:1233] Loading model from path /tmp/tmpzbnejryu/model/ with prefix 5cabac4a5e234f04\n",
      "[WARNING 24-07-06 18:33:43.8973 BST abstract_model.cc:1357] The engine \"RandomForestGeneric\" is compatible but could not be created: This inference engine optimized for speed only supports model outputting out-of-bag values. This can be caused by two errors: 1) Have rare label values (by default <10 on the entire training dataset) and not setting \"min_vocab_frequency\" appropriately. 2) Having \"is_already_integerized=true\" and providing label with \"OOB\"(=0) values during training.\n",
      "[INFO 24-07-06 18:33:43.8973 BST kernel.cc:1079] Use slow generic engine\n"
     ]
    },
    {
     "name": "stdout",
     "output_type": "stream",
     "text": [
      "i:18\n"
     ]
    },
    {
     "name": "stderr",
     "output_type": "stream",
     "text": [
      "[INFO 24-07-06 18:33:45.0354 BST kernel.cc:1233] Loading model from path /tmp/tmpn4zkrnir/model/ with prefix 77927e9929ec4531\n",
      "[WARNING 24-07-06 18:33:45.0836 BST abstract_model.cc:1357] The engine \"RandomForestGeneric\" is compatible but could not be created: This inference engine optimized for speed only supports model outputting out-of-bag values. This can be caused by two errors: 1) Have rare label values (by default <10 on the entire training dataset) and not setting \"min_vocab_frequency\" appropriately. 2) Having \"is_already_integerized=true\" and providing label with \"OOB\"(=0) values during training.\n",
      "[INFO 24-07-06 18:33:45.0836 BST kernel.cc:1079] Use slow generic engine\n"
     ]
    },
    {
     "name": "stdout",
     "output_type": "stream",
     "text": [
      "i:19\n"
     ]
    },
    {
     "name": "stderr",
     "output_type": "stream",
     "text": [
      "[INFO 24-07-06 18:33:45.7642 BST kernel.cc:1233] Loading model from path /tmp/tmp5wmd96_9/model/ with prefix 7836ed32ce5b4830\n",
      "[WARNING 24-07-06 18:33:45.8054 BST abstract_model.cc:1357] The engine \"RandomForestGeneric\" is compatible but could not be created: This inference engine optimized for speed only supports model outputting out-of-bag values. This can be caused by two errors: 1) Have rare label values (by default <10 on the entire training dataset) and not setting \"min_vocab_frequency\" appropriately. 2) Having \"is_already_integerized=true\" and providing label with \"OOB\"(=0) values during training.\n",
      "[INFO 24-07-06 18:33:45.8054 BST kernel.cc:1079] Use slow generic engine\n"
     ]
    },
    {
     "name": "stdout",
     "output_type": "stream",
     "text": [
      "i:20\n"
     ]
    },
    {
     "name": "stderr",
     "output_type": "stream",
     "text": [
      "[INFO 24-07-06 18:33:46.4257 BST kernel.cc:1233] Loading model from path /tmp/tmpbaj5rp1f/model/ with prefix accd38a0020248a2\n",
      "[WARNING 24-07-06 18:33:46.4657 BST abstract_model.cc:1357] The engine \"RandomForestGeneric\" is compatible but could not be created: This inference engine optimized for speed only supports model outputting out-of-bag values. This can be caused by two errors: 1) Have rare label values (by default <10 on the entire training dataset) and not setting \"min_vocab_frequency\" appropriately. 2) Having \"is_already_integerized=true\" and providing label with \"OOB\"(=0) values during training.\n",
      "[INFO 24-07-06 18:33:46.4657 BST kernel.cc:1079] Use slow generic engine\n"
     ]
    },
    {
     "name": "stdout",
     "output_type": "stream",
     "text": [
      "i:21\n"
     ]
    },
    {
     "name": "stderr",
     "output_type": "stream",
     "text": [
      "[INFO 24-07-06 18:33:47.0628 BST kernel.cc:1233] Loading model from path /tmp/tmpl_1y2oqc/model/ with prefix e4a9e8f04f5c4c2d\n",
      "[WARNING 24-07-06 18:33:47.1007 BST abstract_model.cc:1357] The engine \"RandomForestGeneric\" is compatible but could not be created: This inference engine optimized for speed only supports model outputting out-of-bag values. This can be caused by two errors: 1) Have rare label values (by default <10 on the entire training dataset) and not setting \"min_vocab_frequency\" appropriately. 2) Having \"is_already_integerized=true\" and providing label with \"OOB\"(=0) values during training.\n",
      "[INFO 24-07-06 18:33:47.1007 BST kernel.cc:1079] Use slow generic engine\n"
     ]
    },
    {
     "name": "stdout",
     "output_type": "stream",
     "text": [
      "i:22\n"
     ]
    },
    {
     "name": "stderr",
     "output_type": "stream",
     "text": [
      "[INFO 24-07-06 18:33:47.6730 BST kernel.cc:1233] Loading model from path /tmp/tmp9e2x9k86/model/ with prefix a755f6ed97c6406c\n",
      "[WARNING 24-07-06 18:33:47.7107 BST abstract_model.cc:1357] The engine \"RandomForestGeneric\" is compatible but could not be created: This inference engine optimized for speed only supports model outputting out-of-bag values. This can be caused by two errors: 1) Have rare label values (by default <10 on the entire training dataset) and not setting \"min_vocab_frequency\" appropriately. 2) Having \"is_already_integerized=true\" and providing label with \"OOB\"(=0) values during training.\n",
      "[INFO 24-07-06 18:33:47.7107 BST kernel.cc:1079] Use slow generic engine\n"
     ]
    },
    {
     "name": "stdout",
     "output_type": "stream",
     "text": [
      "i:23\n"
     ]
    },
    {
     "name": "stderr",
     "output_type": "stream",
     "text": [
      "[INFO 24-07-06 18:33:48.2615 BST kernel.cc:1233] Loading model from path /tmp/tmprnoxvybh/model/ with prefix 1df56b9c8e8d4404\n",
      "[WARNING 24-07-06 18:33:48.2974 BST abstract_model.cc:1357] The engine \"RandomForestGeneric\" is compatible but could not be created: This inference engine optimized for speed only supports model outputting out-of-bag values. This can be caused by two errors: 1) Have rare label values (by default <10 on the entire training dataset) and not setting \"min_vocab_frequency\" appropriately. 2) Having \"is_already_integerized=true\" and providing label with \"OOB\"(=0) values during training.\n",
      "[INFO 24-07-06 18:33:48.2975 BST kernel.cc:1079] Use slow generic engine\n"
     ]
    },
    {
     "name": "stdout",
     "output_type": "stream",
     "text": [
      "i:24\n"
     ]
    },
    {
     "name": "stderr",
     "output_type": "stream",
     "text": [
      "[INFO 24-07-06 18:33:48.8396 BST kernel.cc:1233] Loading model from path /tmp/tmpsdeaipcx/model/ with prefix 153224f594f64311\n",
      "[WARNING 24-07-06 18:33:48.8796 BST abstract_model.cc:1357] The engine \"RandomForestGeneric\" is compatible but could not be created: This inference engine optimized for speed only supports model outputting out-of-bag values. This can be caused by two errors: 1) Have rare label values (by default <10 on the entire training dataset) and not setting \"min_vocab_frequency\" appropriately. 2) Having \"is_already_integerized=true\" and providing label with \"OOB\"(=0) values during training.\n",
      "[INFO 24-07-06 18:33:48.8796 BST kernel.cc:1079] Use slow generic engine\n"
     ]
    },
    {
     "name": "stdout",
     "output_type": "stream",
     "text": [
      "i:25\n"
     ]
    },
    {
     "name": "stderr",
     "output_type": "stream",
     "text": [
      "[INFO 24-07-06 18:33:49.4450 BST kernel.cc:1233] Loading model from path /tmp/tmpyusrsph3/model/ with prefix 904589d068fb4dc6\n",
      "[WARNING 24-07-06 18:33:49.4845 BST abstract_model.cc:1357] The engine \"RandomForestGeneric\" is compatible but could not be created: This inference engine optimized for speed only supports model outputting out-of-bag values. This can be caused by two errors: 1) Have rare label values (by default <10 on the entire training dataset) and not setting \"min_vocab_frequency\" appropriately. 2) Having \"is_already_integerized=true\" and providing label with \"OOB\"(=0) values during training.\n",
      "[INFO 24-07-06 18:33:49.4845 BST kernel.cc:1079] Use slow generic engine\n"
     ]
    },
    {
     "name": "stdout",
     "output_type": "stream",
     "text": [
      "i:26\n"
     ]
    },
    {
     "name": "stderr",
     "output_type": "stream",
     "text": [
      "[INFO 24-07-06 18:33:50.0492 BST kernel.cc:1233] Loading model from path /tmp/tmpcq4zqvkw/model/ with prefix f671188996a349e9\n",
      "[WARNING 24-07-06 18:33:50.0881 BST abstract_model.cc:1357] The engine \"RandomForestGeneric\" is compatible but could not be created: This inference engine optimized for speed only supports model outputting out-of-bag values. This can be caused by two errors: 1) Have rare label values (by default <10 on the entire training dataset) and not setting \"min_vocab_frequency\" appropriately. 2) Having \"is_already_integerized=true\" and providing label with \"OOB\"(=0) values during training.\n",
      "[INFO 24-07-06 18:33:50.0881 BST kernel.cc:1079] Use slow generic engine\n"
     ]
    },
    {
     "name": "stdout",
     "output_type": "stream",
     "text": [
      "i:27\n"
     ]
    },
    {
     "name": "stderr",
     "output_type": "stream",
     "text": [
      "[INFO 24-07-06 18:33:50.6396 BST kernel.cc:1233] Loading model from path /tmp/tmpv1r0_pjr/model/ with prefix 911a1826d5cb4432\n",
      "[WARNING 24-07-06 18:33:50.6783 BST abstract_model.cc:1357] The engine \"RandomForestGeneric\" is compatible but could not be created: This inference engine optimized for speed only supports model outputting out-of-bag values. This can be caused by two errors: 1) Have rare label values (by default <10 on the entire training dataset) and not setting \"min_vocab_frequency\" appropriately. 2) Having \"is_already_integerized=true\" and providing label with \"OOB\"(=0) values during training.\n",
      "[INFO 24-07-06 18:33:50.6783 BST kernel.cc:1079] Use slow generic engine\n"
     ]
    },
    {
     "name": "stdout",
     "output_type": "stream",
     "text": [
      "i:28\n"
     ]
    },
    {
     "name": "stderr",
     "output_type": "stream",
     "text": [
      "[INFO 24-07-06 18:33:51.2296 BST kernel.cc:1233] Loading model from path /tmp/tmpgpg8m9u_/model/ with prefix b72a4d9a9c8d4c93\n",
      "[WARNING 24-07-06 18:33:51.2693 BST abstract_model.cc:1357] The engine \"RandomForestGeneric\" is compatible but could not be created: This inference engine optimized for speed only supports model outputting out-of-bag values. This can be caused by two errors: 1) Have rare label values (by default <10 on the entire training dataset) and not setting \"min_vocab_frequency\" appropriately. 2) Having \"is_already_integerized=true\" and providing label with \"OOB\"(=0) values during training.\n",
      "[INFO 24-07-06 18:33:51.2693 BST kernel.cc:1079] Use slow generic engine\n"
     ]
    },
    {
     "name": "stdout",
     "output_type": "stream",
     "text": [
      "i:29\n"
     ]
    },
    {
     "name": "stderr",
     "output_type": "stream",
     "text": [
      "[INFO 24-07-06 18:33:51.8276 BST kernel.cc:1233] Loading model from path /tmp/tmpb20evwig/model/ with prefix 188837bb1d814f26\n",
      "[WARNING 24-07-06 18:33:51.8670 BST abstract_model.cc:1357] The engine \"RandomForestGeneric\" is compatible but could not be created: This inference engine optimized for speed only supports model outputting out-of-bag values. This can be caused by two errors: 1) Have rare label values (by default <10 on the entire training dataset) and not setting \"min_vocab_frequency\" appropriately. 2) Having \"is_already_integerized=true\" and providing label with \"OOB\"(=0) values during training.\n",
      "[INFO 24-07-06 18:33:51.8670 BST kernel.cc:1079] Use slow generic engine\n"
     ]
    },
    {
     "name": "stdout",
     "output_type": "stream",
     "text": [
      "i:30\n"
     ]
    },
    {
     "name": "stderr",
     "output_type": "stream",
     "text": [
      "[INFO 24-07-06 18:33:52.4260 BST kernel.cc:1233] Loading model from path /tmp/tmpbi6cvlq_/model/ with prefix 6ea67e7bf7074b9b\n",
      "[WARNING 24-07-06 18:33:52.4650 BST abstract_model.cc:1357] The engine \"RandomForestGeneric\" is compatible but could not be created: This inference engine optimized for speed only supports model outputting out-of-bag values. This can be caused by two errors: 1) Have rare label values (by default <10 on the entire training dataset) and not setting \"min_vocab_frequency\" appropriately. 2) Having \"is_already_integerized=true\" and providing label with \"OOB\"(=0) values during training.\n",
      "[INFO 24-07-06 18:33:52.4650 BST kernel.cc:1079] Use slow generic engine\n"
     ]
    },
    {
     "name": "stdout",
     "output_type": "stream",
     "text": [
      "i:31\n"
     ]
    },
    {
     "name": "stderr",
     "output_type": "stream",
     "text": [
      "[INFO 24-07-06 18:33:53.0119 BST kernel.cc:1233] Loading model from path /tmp/tmpjlnaudk4/model/ with prefix 939cc31275ed46eb\n",
      "[WARNING 24-07-06 18:33:53.0505 BST abstract_model.cc:1357] The engine \"RandomForestGeneric\" is compatible but could not be created: This inference engine optimized for speed only supports model outputting out-of-bag values. This can be caused by two errors: 1) Have rare label values (by default <10 on the entire training dataset) and not setting \"min_vocab_frequency\" appropriately. 2) Having \"is_already_integerized=true\" and providing label with \"OOB\"(=0) values during training.\n",
      "[INFO 24-07-06 18:33:53.0506 BST kernel.cc:1079] Use slow generic engine\n"
     ]
    },
    {
     "name": "stdout",
     "output_type": "stream",
     "text": [
      "i:32\n"
     ]
    },
    {
     "name": "stderr",
     "output_type": "stream",
     "text": [
      "[INFO 24-07-06 18:33:53.5903 BST kernel.cc:1233] Loading model from path /tmp/tmp1qfg_qp3/model/ with prefix dc8408a8d07b45e7\n",
      "[WARNING 24-07-06 18:33:53.6312 BST abstract_model.cc:1357] The engine \"RandomForestGeneric\" is compatible but could not be created: This inference engine optimized for speed only supports model outputting out-of-bag values. This can be caused by two errors: 1) Have rare label values (by default <10 on the entire training dataset) and not setting \"min_vocab_frequency\" appropriately. 2) Having \"is_already_integerized=true\" and providing label with \"OOB\"(=0) values during training.\n",
      "[INFO 24-07-06 18:33:53.6312 BST kernel.cc:1079] Use slow generic engine\n"
     ]
    },
    {
     "name": "stdout",
     "output_type": "stream",
     "text": [
      "i:33\n"
     ]
    },
    {
     "name": "stderr",
     "output_type": "stream",
     "text": [
      "[INFO 24-07-06 18:33:54.1792 BST kernel.cc:1233] Loading model from path /tmp/tmp9knnbf8x/model/ with prefix fa72853bfcb24101\n",
      "[WARNING 24-07-06 18:33:54.2189 BST abstract_model.cc:1357] The engine \"RandomForestGeneric\" is compatible but could not be created: This inference engine optimized for speed only supports model outputting out-of-bag values. This can be caused by two errors: 1) Have rare label values (by default <10 on the entire training dataset) and not setting \"min_vocab_frequency\" appropriately. 2) Having \"is_already_integerized=true\" and providing label with \"OOB\"(=0) values during training.\n",
      "[INFO 24-07-06 18:33:54.2189 BST kernel.cc:1079] Use slow generic engine\n"
     ]
    },
    {
     "name": "stdout",
     "output_type": "stream",
     "text": [
      "i:34\n"
     ]
    },
    {
     "name": "stderr",
     "output_type": "stream",
     "text": [
      "[INFO 24-07-06 18:33:54.7542 BST kernel.cc:1233] Loading model from path /tmp/tmprehj_aqq/model/ with prefix ef961abe45df4ae6\n",
      "[WARNING 24-07-06 18:33:54.7937 BST abstract_model.cc:1357] The engine \"RandomForestGeneric\" is compatible but could not be created: This inference engine optimized for speed only supports model outputting out-of-bag values. This can be caused by two errors: 1) Have rare label values (by default <10 on the entire training dataset) and not setting \"min_vocab_frequency\" appropriately. 2) Having \"is_already_integerized=true\" and providing label with \"OOB\"(=0) values during training.\n",
      "[INFO 24-07-06 18:33:54.7938 BST kernel.cc:1079] Use slow generic engine\n"
     ]
    },
    {
     "name": "stdout",
     "output_type": "stream",
     "text": [
      "i:35\n"
     ]
    },
    {
     "name": "stderr",
     "output_type": "stream",
     "text": [
      "[INFO 24-07-06 18:33:55.3553 BST kernel.cc:1233] Loading model from path /tmp/tmpv4qtpzbi/model/ with prefix c633d5e6e7274b43\n",
      "[WARNING 24-07-06 18:33:55.3965 BST abstract_model.cc:1357] The engine \"RandomForestGeneric\" is compatible but could not be created: This inference engine optimized for speed only supports model outputting out-of-bag values. This can be caused by two errors: 1) Have rare label values (by default <10 on the entire training dataset) and not setting \"min_vocab_frequency\" appropriately. 2) Having \"is_already_integerized=true\" and providing label with \"OOB\"(=0) values during training.\n",
      "[INFO 24-07-06 18:33:55.3966 BST kernel.cc:1079] Use slow generic engine\n"
     ]
    },
    {
     "name": "stdout",
     "output_type": "stream",
     "text": [
      "i:36\n"
     ]
    },
    {
     "name": "stderr",
     "output_type": "stream",
     "text": [
      "[INFO 24-07-06 18:33:55.9443 BST kernel.cc:1233] Loading model from path /tmp/tmp2ljoxry8/model/ with prefix 8dd09a14c55a408e\n",
      "[WARNING 24-07-06 18:33:55.9839 BST abstract_model.cc:1357] The engine \"RandomForestGeneric\" is compatible but could not be created: This inference engine optimized for speed only supports model outputting out-of-bag values. This can be caused by two errors: 1) Have rare label values (by default <10 on the entire training dataset) and not setting \"min_vocab_frequency\" appropriately. 2) Having \"is_already_integerized=true\" and providing label with \"OOB\"(=0) values during training.\n",
      "[INFO 24-07-06 18:33:55.9839 BST kernel.cc:1079] Use slow generic engine\n"
     ]
    },
    {
     "name": "stdout",
     "output_type": "stream",
     "text": [
      "i:37\n"
     ]
    },
    {
     "name": "stderr",
     "output_type": "stream",
     "text": [
      "[INFO 24-07-06 18:33:56.5320 BST kernel.cc:1233] Loading model from path /tmp/tmp2jy0vp32/model/ with prefix e19be6dc32f14d31\n",
      "[WARNING 24-07-06 18:33:56.5719 BST abstract_model.cc:1357] The engine \"RandomForestGeneric\" is compatible but could not be created: This inference engine optimized for speed only supports model outputting out-of-bag values. This can be caused by two errors: 1) Have rare label values (by default <10 on the entire training dataset) and not setting \"min_vocab_frequency\" appropriately. 2) Having \"is_already_integerized=true\" and providing label with \"OOB\"(=0) values during training.\n",
      "[INFO 24-07-06 18:33:56.5719 BST kernel.cc:1079] Use slow generic engine\n"
     ]
    },
    {
     "name": "stdout",
     "output_type": "stream",
     "text": [
      "i:38\n"
     ]
    },
    {
     "name": "stderr",
     "output_type": "stream",
     "text": [
      "[INFO 24-07-06 18:33:57.1346 BST kernel.cc:1233] Loading model from path /tmp/tmpms54fmyx/model/ with prefix 7cce629e352d4a1e\n",
      "[WARNING 24-07-06 18:33:57.1730 BST abstract_model.cc:1357] The engine \"RandomForestGeneric\" is compatible but could not be created: This inference engine optimized for speed only supports model outputting out-of-bag values. This can be caused by two errors: 1) Have rare label values (by default <10 on the entire training dataset) and not setting \"min_vocab_frequency\" appropriately. 2) Having \"is_already_integerized=true\" and providing label with \"OOB\"(=0) values during training.\n",
      "[INFO 24-07-06 18:33:57.1730 BST kernel.cc:1079] Use slow generic engine\n"
     ]
    },
    {
     "name": "stdout",
     "output_type": "stream",
     "text": [
      "i:39\n"
     ]
    },
    {
     "name": "stderr",
     "output_type": "stream",
     "text": [
      "[INFO 24-07-06 18:33:57.7288 BST kernel.cc:1233] Loading model from path /tmp/tmpeen3e_n6/model/ with prefix 602eaac4f18a4e70\n",
      "[WARNING 24-07-06 18:33:57.7686 BST abstract_model.cc:1357] The engine \"RandomForestGeneric\" is compatible but could not be created: This inference engine optimized for speed only supports model outputting out-of-bag values. This can be caused by two errors: 1) Have rare label values (by default <10 on the entire training dataset) and not setting \"min_vocab_frequency\" appropriately. 2) Having \"is_already_integerized=true\" and providing label with \"OOB\"(=0) values during training.\n",
      "[INFO 24-07-06 18:33:57.7687 BST kernel.cc:1079] Use slow generic engine\n"
     ]
    },
    {
     "name": "stdout",
     "output_type": "stream",
     "text": [
      "i:40\n"
     ]
    },
    {
     "name": "stderr",
     "output_type": "stream",
     "text": [
      "[INFO 24-07-06 18:33:58.3152 BST kernel.cc:1233] Loading model from path /tmp/tmpeujeg319/model/ with prefix 364d33af3bfb4310\n",
      "[WARNING 24-07-06 18:33:58.3559 BST abstract_model.cc:1357] The engine \"RandomForestGeneric\" is compatible but could not be created: This inference engine optimized for speed only supports model outputting out-of-bag values. This can be caused by two errors: 1) Have rare label values (by default <10 on the entire training dataset) and not setting \"min_vocab_frequency\" appropriately. 2) Having \"is_already_integerized=true\" and providing label with \"OOB\"(=0) values during training.\n",
      "[INFO 24-07-06 18:33:58.3559 BST kernel.cc:1079] Use slow generic engine\n"
     ]
    },
    {
     "name": "stdout",
     "output_type": "stream",
     "text": [
      "i:41\n"
     ]
    },
    {
     "name": "stderr",
     "output_type": "stream",
     "text": [
      "[INFO 24-07-06 18:33:58.9260 BST kernel.cc:1233] Loading model from path /tmp/tmpjwaqjnb8/model/ with prefix 4187aaef363d4bda\n",
      "[WARNING 24-07-06 18:33:58.9653 BST abstract_model.cc:1357] The engine \"RandomForestGeneric\" is compatible but could not be created: This inference engine optimized for speed only supports model outputting out-of-bag values. This can be caused by two errors: 1) Have rare label values (by default <10 on the entire training dataset) and not setting \"min_vocab_frequency\" appropriately. 2) Having \"is_already_integerized=true\" and providing label with \"OOB\"(=0) values during training.\n",
      "[INFO 24-07-06 18:33:58.9653 BST kernel.cc:1079] Use slow generic engine\n"
     ]
    },
    {
     "name": "stdout",
     "output_type": "stream",
     "text": [
      "i:42\n"
     ]
    },
    {
     "name": "stderr",
     "output_type": "stream",
     "text": [
      "[INFO 24-07-06 18:33:59.5201 BST kernel.cc:1233] Loading model from path /tmp/tmpyugujhur/model/ with prefix 080da32f24154499\n",
      "[WARNING 24-07-06 18:33:59.5594 BST abstract_model.cc:1357] The engine \"RandomForestGeneric\" is compatible but could not be created: This inference engine optimized for speed only supports model outputting out-of-bag values. This can be caused by two errors: 1) Have rare label values (by default <10 on the entire training dataset) and not setting \"min_vocab_frequency\" appropriately. 2) Having \"is_already_integerized=true\" and providing label with \"OOB\"(=0) values during training.\n",
      "[INFO 24-07-06 18:33:59.5594 BST kernel.cc:1079] Use slow generic engine\n"
     ]
    },
    {
     "name": "stdout",
     "output_type": "stream",
     "text": [
      "i:43\n"
     ]
    },
    {
     "name": "stderr",
     "output_type": "stream",
     "text": [
      "[INFO 24-07-06 18:34:00.1355 BST kernel.cc:1233] Loading model from path /tmp/tmpngjvjjjj/model/ with prefix 05d4b9b757a34c6c\n",
      "[WARNING 24-07-06 18:34:00.1765 BST abstract_model.cc:1357] The engine \"RandomForestGeneric\" is compatible but could not be created: This inference engine optimized for speed only supports model outputting out-of-bag values. This can be caused by two errors: 1) Have rare label values (by default <10 on the entire training dataset) and not setting \"min_vocab_frequency\" appropriately. 2) Having \"is_already_integerized=true\" and providing label with \"OOB\"(=0) values during training.\n",
      "[INFO 24-07-06 18:34:00.1765 BST kernel.cc:1079] Use slow generic engine\n"
     ]
    },
    {
     "name": "stdout",
     "output_type": "stream",
     "text": [
      "i:44\n"
     ]
    },
    {
     "name": "stderr",
     "output_type": "stream",
     "text": [
      "[INFO 24-07-06 18:34:00.7255 BST kernel.cc:1233] Loading model from path /tmp/tmp3yr8x57v/model/ with prefix 4ab426e2f7f14ce9\n",
      "[WARNING 24-07-06 18:34:00.7654 BST abstract_model.cc:1357] The engine \"RandomForestGeneric\" is compatible but could not be created: This inference engine optimized for speed only supports model outputting out-of-bag values. This can be caused by two errors: 1) Have rare label values (by default <10 on the entire training dataset) and not setting \"min_vocab_frequency\" appropriately. 2) Having \"is_already_integerized=true\" and providing label with \"OOB\"(=0) values during training.\n",
      "[INFO 24-07-06 18:34:00.7654 BST kernel.cc:1079] Use slow generic engine\n"
     ]
    },
    {
     "name": "stdout",
     "output_type": "stream",
     "text": [
      "i:45\n"
     ]
    },
    {
     "name": "stderr",
     "output_type": "stream",
     "text": [
      "[INFO 24-07-06 18:34:01.3300 BST kernel.cc:1233] Loading model from path /tmp/tmpcezpwgsu/model/ with prefix 885224df005f424e\n",
      "[WARNING 24-07-06 18:34:01.3723 BST abstract_model.cc:1357] The engine \"RandomForestGeneric\" is compatible but could not be created: This inference engine optimized for speed only supports model outputting out-of-bag values. This can be caused by two errors: 1) Have rare label values (by default <10 on the entire training dataset) and not setting \"min_vocab_frequency\" appropriately. 2) Having \"is_already_integerized=true\" and providing label with \"OOB\"(=0) values during training.\n",
      "[INFO 24-07-06 18:34:01.3723 BST kernel.cc:1079] Use slow generic engine\n"
     ]
    },
    {
     "name": "stdout",
     "output_type": "stream",
     "text": [
      "i:46\n"
     ]
    },
    {
     "name": "stderr",
     "output_type": "stream",
     "text": [
      "[INFO 24-07-06 18:34:01.9196 BST kernel.cc:1233] Loading model from path /tmp/tmppw08zezt/model/ with prefix f85b8befc90a45ad\n",
      "[WARNING 24-07-06 18:34:01.9589 BST abstract_model.cc:1357] The engine \"RandomForestGeneric\" is compatible but could not be created: This inference engine optimized for speed only supports model outputting out-of-bag values. This can be caused by two errors: 1) Have rare label values (by default <10 on the entire training dataset) and not setting \"min_vocab_frequency\" appropriately. 2) Having \"is_already_integerized=true\" and providing label with \"OOB\"(=0) values during training.\n",
      "[INFO 24-07-06 18:34:01.9589 BST kernel.cc:1079] Use slow generic engine\n"
     ]
    },
    {
     "name": "stdout",
     "output_type": "stream",
     "text": [
      "i:47\n"
     ]
    },
    {
     "name": "stderr",
     "output_type": "stream",
     "text": [
      "[INFO 24-07-06 18:34:02.5011 BST kernel.cc:1233] Loading model from path /tmp/tmpsgdoi5s0/model/ with prefix 83889425472c4c3f\n",
      "[WARNING 24-07-06 18:34:02.5397 BST abstract_model.cc:1357] The engine \"RandomForestGeneric\" is compatible but could not be created: This inference engine optimized for speed only supports model outputting out-of-bag values. This can be caused by two errors: 1) Have rare label values (by default <10 on the entire training dataset) and not setting \"min_vocab_frequency\" appropriately. 2) Having \"is_already_integerized=true\" and providing label with \"OOB\"(=0) values during training.\n",
      "[INFO 24-07-06 18:34:02.5398 BST kernel.cc:1079] Use slow generic engine\n"
     ]
    },
    {
     "name": "stdout",
     "output_type": "stream",
     "text": [
      "i:48\n"
     ]
    },
    {
     "name": "stderr",
     "output_type": "stream",
     "text": [
      "[INFO 24-07-06 18:34:03.0894 BST kernel.cc:1233] Loading model from path /tmp/tmpu215r408/model/ with prefix 12e7d72989164257\n",
      "[WARNING 24-07-06 18:34:03.1282 BST abstract_model.cc:1357] The engine \"RandomForestGeneric\" is compatible but could not be created: This inference engine optimized for speed only supports model outputting out-of-bag values. This can be caused by two errors: 1) Have rare label values (by default <10 on the entire training dataset) and not setting \"min_vocab_frequency\" appropriately. 2) Having \"is_already_integerized=true\" and providing label with \"OOB\"(=0) values during training.\n",
      "[INFO 24-07-06 18:34:03.1282 BST kernel.cc:1079] Use slow generic engine\n"
     ]
    },
    {
     "name": "stdout",
     "output_type": "stream",
     "text": [
      "i:49\n"
     ]
    },
    {
     "name": "stderr",
     "output_type": "stream",
     "text": [
      "[INFO 24-07-06 18:34:03.6580 BST kernel.cc:1233] Loading model from path /tmp/tmppkp8zwcw/model/ with prefix d6285039d04a4f0d\n",
      "[WARNING 24-07-06 18:34:03.6982 BST abstract_model.cc:1357] The engine \"RandomForestGeneric\" is compatible but could not be created: This inference engine optimized for speed only supports model outputting out-of-bag values. This can be caused by two errors: 1) Have rare label values (by default <10 on the entire training dataset) and not setting \"min_vocab_frequency\" appropriately. 2) Having \"is_already_integerized=true\" and providing label with \"OOB\"(=0) values during training.\n",
      "[INFO 24-07-06 18:34:03.6982 BST kernel.cc:1079] Use slow generic engine\n"
     ]
    },
    {
     "name": "stdout",
     "output_type": "stream",
     "text": [
      "i:50\n"
     ]
    },
    {
     "name": "stderr",
     "output_type": "stream",
     "text": [
      "[INFO 24-07-06 18:34:04.2550 BST kernel.cc:1233] Loading model from path /tmp/tmpdvdrjq9n/model/ with prefix e4b5a38a7e4e4669\n",
      "[WARNING 24-07-06 18:34:04.2950 BST abstract_model.cc:1357] The engine \"RandomForestGeneric\" is compatible but could not be created: This inference engine optimized for speed only supports model outputting out-of-bag values. This can be caused by two errors: 1) Have rare label values (by default <10 on the entire training dataset) and not setting \"min_vocab_frequency\" appropriately. 2) Having \"is_already_integerized=true\" and providing label with \"OOB\"(=0) values during training.\n",
      "[INFO 24-07-06 18:34:04.2950 BST kernel.cc:1079] Use slow generic engine\n"
     ]
    },
    {
     "name": "stdout",
     "output_type": "stream",
     "text": [
      "i:51\n"
     ]
    },
    {
     "name": "stderr",
     "output_type": "stream",
     "text": [
      "[INFO 24-07-06 18:34:04.8521 BST kernel.cc:1233] Loading model from path /tmp/tmpvp_926ws/model/ with prefix 5eb3e006043b4427\n",
      "[WARNING 24-07-06 18:34:04.8915 BST abstract_model.cc:1357] The engine \"RandomForestGeneric\" is compatible but could not be created: This inference engine optimized for speed only supports model outputting out-of-bag values. This can be caused by two errors: 1) Have rare label values (by default <10 on the entire training dataset) and not setting \"min_vocab_frequency\" appropriately. 2) Having \"is_already_integerized=true\" and providing label with \"OOB\"(=0) values during training.\n",
      "[INFO 24-07-06 18:34:04.8916 BST kernel.cc:1079] Use slow generic engine\n"
     ]
    },
    {
     "name": "stdout",
     "output_type": "stream",
     "text": [
      "i:52\n"
     ]
    },
    {
     "name": "stderr",
     "output_type": "stream",
     "text": [
      "[INFO 24-07-06 18:34:05.4540 BST kernel.cc:1233] Loading model from path /tmp/tmpr4ul6vyw/model/ with prefix 44eb7c1d7f5c4227\n",
      "[WARNING 24-07-06 18:34:05.4930 BST abstract_model.cc:1357] The engine \"RandomForestGeneric\" is compatible but could not be created: This inference engine optimized for speed only supports model outputting out-of-bag values. This can be caused by two errors: 1) Have rare label values (by default <10 on the entire training dataset) and not setting \"min_vocab_frequency\" appropriately. 2) Having \"is_already_integerized=true\" and providing label with \"OOB\"(=0) values during training.\n",
      "[INFO 24-07-06 18:34:05.4930 BST kernel.cc:1079] Use slow generic engine\n"
     ]
    },
    {
     "name": "stdout",
     "output_type": "stream",
     "text": [
      "i:53\n"
     ]
    },
    {
     "name": "stderr",
     "output_type": "stream",
     "text": [
      "[INFO 24-07-06 18:34:06.0571 BST kernel.cc:1233] Loading model from path /tmp/tmpzz9fho4c/model/ with prefix a8f53691dcc54399\n",
      "[WARNING 24-07-06 18:34:06.0971 BST abstract_model.cc:1357] The engine \"RandomForestGeneric\" is compatible but could not be created: This inference engine optimized for speed only supports model outputting out-of-bag values. This can be caused by two errors: 1) Have rare label values (by default <10 on the entire training dataset) and not setting \"min_vocab_frequency\" appropriately. 2) Having \"is_already_integerized=true\" and providing label with \"OOB\"(=0) values during training.\n",
      "[INFO 24-07-06 18:34:06.0972 BST kernel.cc:1079] Use slow generic engine\n"
     ]
    },
    {
     "name": "stdout",
     "output_type": "stream",
     "text": [
      "i:54\n"
     ]
    },
    {
     "name": "stderr",
     "output_type": "stream",
     "text": [
      "[INFO 24-07-06 18:34:06.6383 BST kernel.cc:1233] Loading model from path /tmp/tmppbfcwh6t/model/ with prefix 42fbbb6245e4433a\n",
      "[WARNING 24-07-06 18:34:06.6776 BST abstract_model.cc:1357] The engine \"RandomForestGeneric\" is compatible but could not be created: This inference engine optimized for speed only supports model outputting out-of-bag values. This can be caused by two errors: 1) Have rare label values (by default <10 on the entire training dataset) and not setting \"min_vocab_frequency\" appropriately. 2) Having \"is_already_integerized=true\" and providing label with \"OOB\"(=0) values during training.\n",
      "[INFO 24-07-06 18:34:06.6776 BST kernel.cc:1079] Use slow generic engine\n"
     ]
    },
    {
     "name": "stdout",
     "output_type": "stream",
     "text": [
      "i:55\n"
     ]
    },
    {
     "name": "stderr",
     "output_type": "stream",
     "text": [
      "[INFO 24-07-06 18:34:07.2260 BST kernel.cc:1233] Loading model from path /tmp/tmp2gubfy9h/model/ with prefix d618b95937ce4d4a\n",
      "[WARNING 24-07-06 18:34:07.2652 BST abstract_model.cc:1357] The engine \"RandomForestGeneric\" is compatible but could not be created: This inference engine optimized for speed only supports model outputting out-of-bag values. This can be caused by two errors: 1) Have rare label values (by default <10 on the entire training dataset) and not setting \"min_vocab_frequency\" appropriately. 2) Having \"is_already_integerized=true\" and providing label with \"OOB\"(=0) values during training.\n",
      "[INFO 24-07-06 18:34:07.2652 BST kernel.cc:1079] Use slow generic engine\n"
     ]
    },
    {
     "name": "stdout",
     "output_type": "stream",
     "text": [
      "i:56\n"
     ]
    },
    {
     "name": "stderr",
     "output_type": "stream",
     "text": [
      "[INFO 24-07-06 18:34:07.8119 BST kernel.cc:1233] Loading model from path /tmp/tmpwrkrqf_z/model/ with prefix bf70021fe1334642\n",
      "[WARNING 24-07-06 18:34:07.8516 BST abstract_model.cc:1357] The engine \"RandomForestGeneric\" is compatible but could not be created: This inference engine optimized for speed only supports model outputting out-of-bag values. This can be caused by two errors: 1) Have rare label values (by default <10 on the entire training dataset) and not setting \"min_vocab_frequency\" appropriately. 2) Having \"is_already_integerized=true\" and providing label with \"OOB\"(=0) values during training.\n",
      "[INFO 24-07-06 18:34:07.8516 BST kernel.cc:1079] Use slow generic engine\n"
     ]
    },
    {
     "name": "stdout",
     "output_type": "stream",
     "text": [
      "i:57\n"
     ]
    },
    {
     "name": "stderr",
     "output_type": "stream",
     "text": [
      "[INFO 24-07-06 18:34:08.3859 BST kernel.cc:1233] Loading model from path /tmp/tmp87dfkoft/model/ with prefix a2a321da7c8d4514\n",
      "[WARNING 24-07-06 18:34:08.4262 BST abstract_model.cc:1357] The engine \"RandomForestGeneric\" is compatible but could not be created: This inference engine optimized for speed only supports model outputting out-of-bag values. This can be caused by two errors: 1) Have rare label values (by default <10 on the entire training dataset) and not setting \"min_vocab_frequency\" appropriately. 2) Having \"is_already_integerized=true\" and providing label with \"OOB\"(=0) values during training.\n",
      "[INFO 24-07-06 18:34:08.4262 BST kernel.cc:1079] Use slow generic engine\n"
     ]
    },
    {
     "name": "stdout",
     "output_type": "stream",
     "text": [
      "i:58\n"
     ]
    },
    {
     "name": "stderr",
     "output_type": "stream",
     "text": [
      "[INFO 24-07-06 18:34:09.6545 BST kernel.cc:1233] Loading model from path /tmp/tmpr2qajn2a/model/ with prefix 5f924c1c94bf4d01\n",
      "[WARNING 24-07-06 18:34:09.7041 BST abstract_model.cc:1357] The engine \"RandomForestGeneric\" is compatible but could not be created: This inference engine optimized for speed only supports model outputting out-of-bag values. This can be caused by two errors: 1) Have rare label values (by default <10 on the entire training dataset) and not setting \"min_vocab_frequency\" appropriately. 2) Having \"is_already_integerized=true\" and providing label with \"OOB\"(=0) values during training.\n",
      "[INFO 24-07-06 18:34:09.7041 BST kernel.cc:1079] Use slow generic engine\n"
     ]
    },
    {
     "name": "stdout",
     "output_type": "stream",
     "text": [
      "i:59\n"
     ]
    },
    {
     "name": "stderr",
     "output_type": "stream",
     "text": [
      "[INFO 24-07-06 18:34:10.4130 BST kernel.cc:1233] Loading model from path /tmp/tmpn4ze_v6s/model/ with prefix 88253f62a0434f53\n",
      "[WARNING 24-07-06 18:34:10.4538 BST abstract_model.cc:1357] The engine \"RandomForestGeneric\" is compatible but could not be created: This inference engine optimized for speed only supports model outputting out-of-bag values. This can be caused by two errors: 1) Have rare label values (by default <10 on the entire training dataset) and not setting \"min_vocab_frequency\" appropriately. 2) Having \"is_already_integerized=true\" and providing label with \"OOB\"(=0) values during training.\n",
      "[INFO 24-07-06 18:34:10.4538 BST kernel.cc:1079] Use slow generic engine\n"
     ]
    },
    {
     "name": "stdout",
     "output_type": "stream",
     "text": [
      "i:60\n"
     ]
    },
    {
     "name": "stderr",
     "output_type": "stream",
     "text": [
      "[INFO 24-07-06 18:34:11.0767 BST kernel.cc:1233] Loading model from path /tmp/tmpns022y33/model/ with prefix 8a86d4086ff64b84\n",
      "[WARNING 24-07-06 18:34:11.1160 BST abstract_model.cc:1357] The engine \"RandomForestGeneric\" is compatible but could not be created: This inference engine optimized for speed only supports model outputting out-of-bag values. This can be caused by two errors: 1) Have rare label values (by default <10 on the entire training dataset) and not setting \"min_vocab_frequency\" appropriately. 2) Having \"is_already_integerized=true\" and providing label with \"OOB\"(=0) values during training.\n",
      "[INFO 24-07-06 18:34:11.1161 BST kernel.cc:1079] Use slow generic engine\n"
     ]
    },
    {
     "name": "stdout",
     "output_type": "stream",
     "text": [
      "i:61\n"
     ]
    },
    {
     "name": "stderr",
     "output_type": "stream",
     "text": [
      "[INFO 24-07-06 18:34:11.6965 BST kernel.cc:1233] Loading model from path /tmp/tmpr8lx7e7u/model/ with prefix b67bc31009084080\n",
      "[WARNING 24-07-06 18:34:11.7362 BST abstract_model.cc:1357] The engine \"RandomForestGeneric\" is compatible but could not be created: This inference engine optimized for speed only supports model outputting out-of-bag values. This can be caused by two errors: 1) Have rare label values (by default <10 on the entire training dataset) and not setting \"min_vocab_frequency\" appropriately. 2) Having \"is_already_integerized=true\" and providing label with \"OOB\"(=0) values during training.\n",
      "[INFO 24-07-06 18:34:11.7362 BST kernel.cc:1079] Use slow generic engine\n"
     ]
    },
    {
     "name": "stdout",
     "output_type": "stream",
     "text": [
      "i:62\n"
     ]
    },
    {
     "name": "stderr",
     "output_type": "stream",
     "text": [
      "[INFO 24-07-06 18:34:12.3178 BST kernel.cc:1233] Loading model from path /tmp/tmpq9smut4g/model/ with prefix 2660ebc258de4cef\n",
      "[WARNING 24-07-06 18:34:12.3565 BST abstract_model.cc:1357] The engine \"RandomForestGeneric\" is compatible but could not be created: This inference engine optimized for speed only supports model outputting out-of-bag values. This can be caused by two errors: 1) Have rare label values (by default <10 on the entire training dataset) and not setting \"min_vocab_frequency\" appropriately. 2) Having \"is_already_integerized=true\" and providing label with \"OOB\"(=0) values during training.\n",
      "[INFO 24-07-06 18:34:12.3565 BST kernel.cc:1079] Use slow generic engine\n"
     ]
    },
    {
     "name": "stdout",
     "output_type": "stream",
     "text": [
      "i:63\n"
     ]
    },
    {
     "name": "stderr",
     "output_type": "stream",
     "text": [
      "[INFO 24-07-06 18:34:12.9218 BST kernel.cc:1233] Loading model from path /tmp/tmpoljo3tke/model/ with prefix c3f8d65dc4064414\n",
      "[WARNING 24-07-06 18:34:12.9588 BST abstract_model.cc:1357] The engine \"RandomForestGeneric\" is compatible but could not be created: This inference engine optimized for speed only supports model outputting out-of-bag values. This can be caused by two errors: 1) Have rare label values (by default <10 on the entire training dataset) and not setting \"min_vocab_frequency\" appropriately. 2) Having \"is_already_integerized=true\" and providing label with \"OOB\"(=0) values during training.\n",
      "[INFO 24-07-06 18:34:12.9588 BST kernel.cc:1079] Use slow generic engine\n"
     ]
    },
    {
     "name": "stdout",
     "output_type": "stream",
     "text": [
      "i:64\n"
     ]
    },
    {
     "name": "stderr",
     "output_type": "stream",
     "text": [
      "[INFO 24-07-06 18:34:13.5107 BST kernel.cc:1233] Loading model from path /tmp/tmp0wsvklin/model/ with prefix f3690d36ff0e42e6\n",
      "[WARNING 24-07-06 18:34:13.5484 BST abstract_model.cc:1357] The engine \"RandomForestGeneric\" is compatible but could not be created: This inference engine optimized for speed only supports model outputting out-of-bag values. This can be caused by two errors: 1) Have rare label values (by default <10 on the entire training dataset) and not setting \"min_vocab_frequency\" appropriately. 2) Having \"is_already_integerized=true\" and providing label with \"OOB\"(=0) values during training.\n",
      "[INFO 24-07-06 18:34:13.5484 BST kernel.cc:1079] Use slow generic engine\n"
     ]
    },
    {
     "name": "stdout",
     "output_type": "stream",
     "text": [
      "i:65\n"
     ]
    },
    {
     "name": "stderr",
     "output_type": "stream",
     "text": [
      "[INFO 24-07-06 18:34:14.0972 BST kernel.cc:1233] Loading model from path /tmp/tmpu4fh209n/model/ with prefix 27c2f37fa2104df7\n",
      "[WARNING 24-07-06 18:34:14.1374 BST abstract_model.cc:1357] The engine \"RandomForestGeneric\" is compatible but could not be created: This inference engine optimized for speed only supports model outputting out-of-bag values. This can be caused by two errors: 1) Have rare label values (by default <10 on the entire training dataset) and not setting \"min_vocab_frequency\" appropriately. 2) Having \"is_already_integerized=true\" and providing label with \"OOB\"(=0) values during training.\n",
      "[INFO 24-07-06 18:34:14.1374 BST kernel.cc:1079] Use slow generic engine\n"
     ]
    },
    {
     "name": "stdout",
     "output_type": "stream",
     "text": [
      "i:66\n"
     ]
    },
    {
     "name": "stderr",
     "output_type": "stream",
     "text": [
      "[INFO 24-07-06 18:34:14.6759 BST kernel.cc:1233] Loading model from path /tmp/tmpu2muy4nv/model/ with prefix 9e3044a718c04f95\n",
      "[WARNING 24-07-06 18:34:14.7150 BST abstract_model.cc:1357] The engine \"RandomForestGeneric\" is compatible but could not be created: This inference engine optimized for speed only supports model outputting out-of-bag values. This can be caused by two errors: 1) Have rare label values (by default <10 on the entire training dataset) and not setting \"min_vocab_frequency\" appropriately. 2) Having \"is_already_integerized=true\" and providing label with \"OOB\"(=0) values during training.\n",
      "[INFO 24-07-06 18:34:14.7150 BST kernel.cc:1079] Use slow generic engine\n"
     ]
    },
    {
     "name": "stdout",
     "output_type": "stream",
     "text": [
      "i:67\n"
     ]
    },
    {
     "name": "stderr",
     "output_type": "stream",
     "text": [
      "[INFO 24-07-06 18:34:15.2764 BST kernel.cc:1233] Loading model from path /tmp/tmpirfhyez9/model/ with prefix d4eb485e115246ce\n",
      "[WARNING 24-07-06 18:34:15.3158 BST abstract_model.cc:1357] The engine \"RandomForestGeneric\" is compatible but could not be created: This inference engine optimized for speed only supports model outputting out-of-bag values. This can be caused by two errors: 1) Have rare label values (by default <10 on the entire training dataset) and not setting \"min_vocab_frequency\" appropriately. 2) Having \"is_already_integerized=true\" and providing label with \"OOB\"(=0) values during training.\n",
      "[INFO 24-07-06 18:34:15.3158 BST kernel.cc:1079] Use slow generic engine\n"
     ]
    },
    {
     "name": "stdout",
     "output_type": "stream",
     "text": [
      "i:68\n"
     ]
    },
    {
     "name": "stderr",
     "output_type": "stream",
     "text": [
      "[INFO 24-07-06 18:34:15.8587 BST kernel.cc:1233] Loading model from path /tmp/tmpv2f5lsp5/model/ with prefix 4843d3cb4f3049a9\n",
      "[WARNING 24-07-06 18:34:15.8997 BST abstract_model.cc:1357] The engine \"RandomForestGeneric\" is compatible but could not be created: This inference engine optimized for speed only supports model outputting out-of-bag values. This can be caused by two errors: 1) Have rare label values (by default <10 on the entire training dataset) and not setting \"min_vocab_frequency\" appropriately. 2) Having \"is_already_integerized=true\" and providing label with \"OOB\"(=0) values during training.\n",
      "[INFO 24-07-06 18:34:15.8997 BST kernel.cc:1079] Use slow generic engine\n"
     ]
    },
    {
     "name": "stdout",
     "output_type": "stream",
     "text": [
      "i:69\n"
     ]
    },
    {
     "name": "stderr",
     "output_type": "stream",
     "text": [
      "[INFO 24-07-06 18:34:16.4591 BST kernel.cc:1233] Loading model from path /tmp/tmpotrryh06/model/ with prefix a32ce07e46504ed5\n",
      "[WARNING 24-07-06 18:34:16.4985 BST abstract_model.cc:1357] The engine \"RandomForestGeneric\" is compatible but could not be created: This inference engine optimized for speed only supports model outputting out-of-bag values. This can be caused by two errors: 1) Have rare label values (by default <10 on the entire training dataset) and not setting \"min_vocab_frequency\" appropriately. 2) Having \"is_already_integerized=true\" and providing label with \"OOB\"(=0) values during training.\n",
      "[INFO 24-07-06 18:34:16.4986 BST kernel.cc:1079] Use slow generic engine\n"
     ]
    },
    {
     "name": "stdout",
     "output_type": "stream",
     "text": [
      "i:70\n"
     ]
    },
    {
     "name": "stderr",
     "output_type": "stream",
     "text": [
      "[INFO 24-07-06 18:34:17.0480 BST kernel.cc:1233] Loading model from path /tmp/tmpfdu9q07_/model/ with prefix c4243f502b814f92\n",
      "[WARNING 24-07-06 18:34:17.0866 BST abstract_model.cc:1357] The engine \"RandomForestGeneric\" is compatible but could not be created: This inference engine optimized for speed only supports model outputting out-of-bag values. This can be caused by two errors: 1) Have rare label values (by default <10 on the entire training dataset) and not setting \"min_vocab_frequency\" appropriately. 2) Having \"is_already_integerized=true\" and providing label with \"OOB\"(=0) values during training.\n",
      "[INFO 24-07-06 18:34:17.0866 BST kernel.cc:1079] Use slow generic engine\n"
     ]
    },
    {
     "name": "stdout",
     "output_type": "stream",
     "text": [
      "i:71\n"
     ]
    },
    {
     "name": "stderr",
     "output_type": "stream",
     "text": [
      "[INFO 24-07-06 18:34:17.6326 BST kernel.cc:1233] Loading model from path /tmp/tmp3g_6z2p9/model/ with prefix 90630061b7fe4e0c\n",
      "[WARNING 24-07-06 18:34:17.6725 BST abstract_model.cc:1357] The engine \"RandomForestGeneric\" is compatible but could not be created: This inference engine optimized for speed only supports model outputting out-of-bag values. This can be caused by two errors: 1) Have rare label values (by default <10 on the entire training dataset) and not setting \"min_vocab_frequency\" appropriately. 2) Having \"is_already_integerized=true\" and providing label with \"OOB\"(=0) values during training.\n",
      "[INFO 24-07-06 18:34:17.6725 BST kernel.cc:1079] Use slow generic engine\n"
     ]
    },
    {
     "name": "stdout",
     "output_type": "stream",
     "text": [
      "i:72\n"
     ]
    },
    {
     "name": "stderr",
     "output_type": "stream",
     "text": [
      "[INFO 24-07-06 18:34:18.2213 BST kernel.cc:1233] Loading model from path /tmp/tmpjvr61md6/model/ with prefix c5ce9126660a4081\n",
      "[WARNING 24-07-06 18:34:18.2615 BST abstract_model.cc:1357] The engine \"RandomForestGeneric\" is compatible but could not be created: This inference engine optimized for speed only supports model outputting out-of-bag values. This can be caused by two errors: 1) Have rare label values (by default <10 on the entire training dataset) and not setting \"min_vocab_frequency\" appropriately. 2) Having \"is_already_integerized=true\" and providing label with \"OOB\"(=0) values during training.\n",
      "[INFO 24-07-06 18:34:18.2616 BST kernel.cc:1079] Use slow generic engine\n"
     ]
    },
    {
     "name": "stdout",
     "output_type": "stream",
     "text": [
      "i:73\n"
     ]
    },
    {
     "name": "stderr",
     "output_type": "stream",
     "text": [
      "[INFO 24-07-06 18:34:18.8108 BST kernel.cc:1233] Loading model from path /tmp/tmppqyxbnxk/model/ with prefix 27419fed08474de3\n",
      "[WARNING 24-07-06 18:34:18.8513 BST abstract_model.cc:1357] The engine \"RandomForestGeneric\" is compatible but could not be created: This inference engine optimized for speed only supports model outputting out-of-bag values. This can be caused by two errors: 1) Have rare label values (by default <10 on the entire training dataset) and not setting \"min_vocab_frequency\" appropriately. 2) Having \"is_already_integerized=true\" and providing label with \"OOB\"(=0) values during training.\n",
      "[INFO 24-07-06 18:34:18.8513 BST kernel.cc:1079] Use slow generic engine\n"
     ]
    },
    {
     "name": "stdout",
     "output_type": "stream",
     "text": [
      "i:74\n"
     ]
    },
    {
     "name": "stderr",
     "output_type": "stream",
     "text": [
      "[INFO 24-07-06 18:34:19.4103 BST kernel.cc:1233] Loading model from path /tmp/tmpwwa1k55a/model/ with prefix 283f9b2f52b945ad\n",
      "[WARNING 24-07-06 18:34:19.4492 BST abstract_model.cc:1357] The engine \"RandomForestGeneric\" is compatible but could not be created: This inference engine optimized for speed only supports model outputting out-of-bag values. This can be caused by two errors: 1) Have rare label values (by default <10 on the entire training dataset) and not setting \"min_vocab_frequency\" appropriately. 2) Having \"is_already_integerized=true\" and providing label with \"OOB\"(=0) values during training.\n",
      "[INFO 24-07-06 18:34:19.4492 BST kernel.cc:1079] Use slow generic engine\n"
     ]
    },
    {
     "name": "stdout",
     "output_type": "stream",
     "text": [
      "i:75\n"
     ]
    },
    {
     "name": "stderr",
     "output_type": "stream",
     "text": [
      "[INFO 24-07-06 18:34:20.0107 BST kernel.cc:1233] Loading model from path /tmp/tmpaoikwhwl/model/ with prefix 069ec951e1204ace\n",
      "[WARNING 24-07-06 18:34:20.0492 BST abstract_model.cc:1357] The engine \"RandomForestGeneric\" is compatible but could not be created: This inference engine optimized for speed only supports model outputting out-of-bag values. This can be caused by two errors: 1) Have rare label values (by default <10 on the entire training dataset) and not setting \"min_vocab_frequency\" appropriately. 2) Having \"is_already_integerized=true\" and providing label with \"OOB\"(=0) values during training.\n",
      "[INFO 24-07-06 18:34:20.0492 BST kernel.cc:1079] Use slow generic engine\n"
     ]
    },
    {
     "name": "stdout",
     "output_type": "stream",
     "text": [
      "i:76\n"
     ]
    },
    {
     "name": "stderr",
     "output_type": "stream",
     "text": [
      "[INFO 24-07-06 18:34:20.6062 BST kernel.cc:1233] Loading model from path /tmp/tmp5uixzwg6/model/ with prefix 6eb6263b2ee84326\n",
      "[WARNING 24-07-06 18:34:20.6469 BST abstract_model.cc:1357] The engine \"RandomForestGeneric\" is compatible but could not be created: This inference engine optimized for speed only supports model outputting out-of-bag values. This can be caused by two errors: 1) Have rare label values (by default <10 on the entire training dataset) and not setting \"min_vocab_frequency\" appropriately. 2) Having \"is_already_integerized=true\" and providing label with \"OOB\"(=0) values during training.\n",
      "[INFO 24-07-06 18:34:20.6469 BST kernel.cc:1079] Use slow generic engine\n"
     ]
    },
    {
     "name": "stdout",
     "output_type": "stream",
     "text": [
      "i:77\n"
     ]
    },
    {
     "name": "stderr",
     "output_type": "stream",
     "text": [
      "[INFO 24-07-06 18:34:21.1941 BST kernel.cc:1233] Loading model from path /tmp/tmpd1lkory2/model/ with prefix 16c85416549b424b\n",
      "[WARNING 24-07-06 18:34:21.2332 BST abstract_model.cc:1357] The engine \"RandomForestGeneric\" is compatible but could not be created: This inference engine optimized for speed only supports model outputting out-of-bag values. This can be caused by two errors: 1) Have rare label values (by default <10 on the entire training dataset) and not setting \"min_vocab_frequency\" appropriately. 2) Having \"is_already_integerized=true\" and providing label with \"OOB\"(=0) values during training.\n",
      "[INFO 24-07-06 18:34:21.2332 BST kernel.cc:1079] Use slow generic engine\n"
     ]
    },
    {
     "name": "stdout",
     "output_type": "stream",
     "text": [
      "i:78\n"
     ]
    },
    {
     "name": "stderr",
     "output_type": "stream",
     "text": [
      "[INFO 24-07-06 18:34:21.7811 BST kernel.cc:1233] Loading model from path /tmp/tmp0bops84r/model/ with prefix 3f4a9cd27c1b4100\n",
      "[WARNING 24-07-06 18:34:21.8199 BST abstract_model.cc:1357] The engine \"RandomForestGeneric\" is compatible but could not be created: This inference engine optimized for speed only supports model outputting out-of-bag values. This can be caused by two errors: 1) Have rare label values (by default <10 on the entire training dataset) and not setting \"min_vocab_frequency\" appropriately. 2) Having \"is_already_integerized=true\" and providing label with \"OOB\"(=0) values during training.\n",
      "[INFO 24-07-06 18:34:21.8199 BST kernel.cc:1079] Use slow generic engine\n"
     ]
    },
    {
     "name": "stdout",
     "output_type": "stream",
     "text": [
      "i:79\n"
     ]
    },
    {
     "name": "stderr",
     "output_type": "stream",
     "text": [
      "[INFO 24-07-06 18:34:22.3789 BST kernel.cc:1233] Loading model from path /tmp/tmpm4jngu4h/model/ with prefix 649c565d3d7844b6\n",
      "[WARNING 24-07-06 18:34:22.4197 BST abstract_model.cc:1357] The engine \"RandomForestGeneric\" is compatible but could not be created: This inference engine optimized for speed only supports model outputting out-of-bag values. This can be caused by two errors: 1) Have rare label values (by default <10 on the entire training dataset) and not setting \"min_vocab_frequency\" appropriately. 2) Having \"is_already_integerized=true\" and providing label with \"OOB\"(=0) values during training.\n",
      "[INFO 24-07-06 18:34:22.4197 BST kernel.cc:1079] Use slow generic engine\n"
     ]
    },
    {
     "name": "stdout",
     "output_type": "stream",
     "text": [
      "i:80\n"
     ]
    },
    {
     "name": "stderr",
     "output_type": "stream",
     "text": [
      "[INFO 24-07-06 18:34:22.9707 BST kernel.cc:1233] Loading model from path /tmp/tmpszw7grtd/model/ with prefix a882c235ec6c4a93\n",
      "[WARNING 24-07-06 18:34:23.0105 BST abstract_model.cc:1357] The engine \"RandomForestGeneric\" is compatible but could not be created: This inference engine optimized for speed only supports model outputting out-of-bag values. This can be caused by two errors: 1) Have rare label values (by default <10 on the entire training dataset) and not setting \"min_vocab_frequency\" appropriately. 2) Having \"is_already_integerized=true\" and providing label with \"OOB\"(=0) values during training.\n",
      "[INFO 24-07-06 18:34:23.0105 BST kernel.cc:1079] Use slow generic engine\n"
     ]
    },
    {
     "name": "stdout",
     "output_type": "stream",
     "text": [
      "i:81\n"
     ]
    },
    {
     "name": "stderr",
     "output_type": "stream",
     "text": [
      "[INFO 24-07-06 18:34:23.5676 BST kernel.cc:1233] Loading model from path /tmp/tmptxlsduph/model/ with prefix 87f586c758c3447e\n",
      "[WARNING 24-07-06 18:34:23.6089 BST abstract_model.cc:1357] The engine \"RandomForestGeneric\" is compatible but could not be created: This inference engine optimized for speed only supports model outputting out-of-bag values. This can be caused by two errors: 1) Have rare label values (by default <10 on the entire training dataset) and not setting \"min_vocab_frequency\" appropriately. 2) Having \"is_already_integerized=true\" and providing label with \"OOB\"(=0) values during training.\n",
      "[INFO 24-07-06 18:34:23.6089 BST kernel.cc:1079] Use slow generic engine\n"
     ]
    },
    {
     "name": "stdout",
     "output_type": "stream",
     "text": [
      "i:82\n"
     ]
    },
    {
     "name": "stderr",
     "output_type": "stream",
     "text": [
      "[INFO 24-07-06 18:34:24.1555 BST kernel.cc:1233] Loading model from path /tmp/tmpm0xgz89o/model/ with prefix dec4078eab394ee5\n",
      "[WARNING 24-07-06 18:34:24.1941 BST abstract_model.cc:1357] The engine \"RandomForestGeneric\" is compatible but could not be created: This inference engine optimized for speed only supports model outputting out-of-bag values. This can be caused by two errors: 1) Have rare label values (by default <10 on the entire training dataset) and not setting \"min_vocab_frequency\" appropriately. 2) Having \"is_already_integerized=true\" and providing label with \"OOB\"(=0) values during training.\n",
      "[INFO 24-07-06 18:34:24.1941 BST kernel.cc:1079] Use slow generic engine\n"
     ]
    },
    {
     "name": "stdout",
     "output_type": "stream",
     "text": [
      "i:83\n"
     ]
    },
    {
     "name": "stderr",
     "output_type": "stream",
     "text": [
      "[INFO 24-07-06 18:34:24.7257 BST kernel.cc:1233] Loading model from path /tmp/tmp02_zxb68/model/ with prefix 5e52b4eb9aba4689\n",
      "[WARNING 24-07-06 18:34:24.7655 BST abstract_model.cc:1357] The engine \"RandomForestGeneric\" is compatible but could not be created: This inference engine optimized for speed only supports model outputting out-of-bag values. This can be caused by two errors: 1) Have rare label values (by default <10 on the entire training dataset) and not setting \"min_vocab_frequency\" appropriately. 2) Having \"is_already_integerized=true\" and providing label with \"OOB\"(=0) values during training.\n",
      "[INFO 24-07-06 18:34:24.7656 BST kernel.cc:1079] Use slow generic engine\n"
     ]
    },
    {
     "name": "stdout",
     "output_type": "stream",
     "text": [
      "i:84\n"
     ]
    },
    {
     "name": "stderr",
     "output_type": "stream",
     "text": [
      "[INFO 24-07-06 18:34:25.3196 BST kernel.cc:1233] Loading model from path /tmp/tmpg0kfu8__/model/ with prefix 97cdecb61a434a40\n",
      "[WARNING 24-07-06 18:34:25.3582 BST abstract_model.cc:1357] The engine \"RandomForestGeneric\" is compatible but could not be created: This inference engine optimized for speed only supports model outputting out-of-bag values. This can be caused by two errors: 1) Have rare label values (by default <10 on the entire training dataset) and not setting \"min_vocab_frequency\" appropriately. 2) Having \"is_already_integerized=true\" and providing label with \"OOB\"(=0) values during training.\n",
      "[INFO 24-07-06 18:34:25.3583 BST kernel.cc:1079] Use slow generic engine\n"
     ]
    },
    {
     "name": "stdout",
     "output_type": "stream",
     "text": [
      "i:85\n"
     ]
    },
    {
     "name": "stderr",
     "output_type": "stream",
     "text": [
      "[INFO 24-07-06 18:34:25.9025 BST kernel.cc:1233] Loading model from path /tmp/tmps_a9z6pd/model/ with prefix 83d7b3875ec44537\n",
      "[WARNING 24-07-06 18:34:25.9407 BST abstract_model.cc:1357] The engine \"RandomForestGeneric\" is compatible but could not be created: This inference engine optimized for speed only supports model outputting out-of-bag values. This can be caused by two errors: 1) Have rare label values (by default <10 on the entire training dataset) and not setting \"min_vocab_frequency\" appropriately. 2) Having \"is_already_integerized=true\" and providing label with \"OOB\"(=0) values during training.\n",
      "[INFO 24-07-06 18:34:25.9407 BST kernel.cc:1079] Use slow generic engine\n"
     ]
    },
    {
     "name": "stdout",
     "output_type": "stream",
     "text": [
      "i:86\n"
     ]
    },
    {
     "name": "stderr",
     "output_type": "stream",
     "text": [
      "[INFO 24-07-06 18:34:26.4931 BST kernel.cc:1233] Loading model from path /tmp/tmp87933fxz/model/ with prefix 5517bd9a4fd64f1b\n",
      "[WARNING 24-07-06 18:34:26.5321 BST abstract_model.cc:1357] The engine \"RandomForestGeneric\" is compatible but could not be created: This inference engine optimized for speed only supports model outputting out-of-bag values. This can be caused by two errors: 1) Have rare label values (by default <10 on the entire training dataset) and not setting \"min_vocab_frequency\" appropriately. 2) Having \"is_already_integerized=true\" and providing label with \"OOB\"(=0) values during training.\n",
      "[INFO 24-07-06 18:34:26.5321 BST kernel.cc:1079] Use slow generic engine\n"
     ]
    },
    {
     "name": "stdout",
     "output_type": "stream",
     "text": [
      "i:87\n"
     ]
    },
    {
     "name": "stderr",
     "output_type": "stream",
     "text": [
      "[INFO 24-07-06 18:34:27.0821 BST kernel.cc:1233] Loading model from path /tmp/tmp7ls67gb6/model/ with prefix 2b80b14d4bbd4573\n",
      "[WARNING 24-07-06 18:34:27.1205 BST abstract_model.cc:1357] The engine \"RandomForestGeneric\" is compatible but could not be created: This inference engine optimized for speed only supports model outputting out-of-bag values. This can be caused by two errors: 1) Have rare label values (by default <10 on the entire training dataset) and not setting \"min_vocab_frequency\" appropriately. 2) Having \"is_already_integerized=true\" and providing label with \"OOB\"(=0) values during training.\n",
      "[INFO 24-07-06 18:34:27.1205 BST kernel.cc:1079] Use slow generic engine\n"
     ]
    },
    {
     "name": "stdout",
     "output_type": "stream",
     "text": [
      "i:88\n"
     ]
    },
    {
     "name": "stderr",
     "output_type": "stream",
     "text": [
      "[INFO 24-07-06 18:34:27.6656 BST kernel.cc:1233] Loading model from path /tmp/tmpk8rkygzb/model/ with prefix 8992776ef0fa4c54\n",
      "[WARNING 24-07-06 18:34:27.7063 BST abstract_model.cc:1357] The engine \"RandomForestGeneric\" is compatible but could not be created: This inference engine optimized for speed only supports model outputting out-of-bag values. This can be caused by two errors: 1) Have rare label values (by default <10 on the entire training dataset) and not setting \"min_vocab_frequency\" appropriately. 2) Having \"is_already_integerized=true\" and providing label with \"OOB\"(=0) values during training.\n",
      "[INFO 24-07-06 18:34:27.7064 BST kernel.cc:1079] Use slow generic engine\n"
     ]
    },
    {
     "name": "stdout",
     "output_type": "stream",
     "text": [
      "i:89\n"
     ]
    },
    {
     "name": "stderr",
     "output_type": "stream",
     "text": [
      "[INFO 24-07-06 18:34:28.2688 BST kernel.cc:1233] Loading model from path /tmp/tmpbb1gm80p/model/ with prefix 0e28d739092d4a33\n",
      "[WARNING 24-07-06 18:34:28.3094 BST abstract_model.cc:1357] The engine \"RandomForestGeneric\" is compatible but could not be created: This inference engine optimized for speed only supports model outputting out-of-bag values. This can be caused by two errors: 1) Have rare label values (by default <10 on the entire training dataset) and not setting \"min_vocab_frequency\" appropriately. 2) Having \"is_already_integerized=true\" and providing label with \"OOB\"(=0) values during training.\n",
      "[INFO 24-07-06 18:34:28.3094 BST kernel.cc:1079] Use slow generic engine\n"
     ]
    },
    {
     "name": "stdout",
     "output_type": "stream",
     "text": [
      "i:90\n"
     ]
    },
    {
     "name": "stderr",
     "output_type": "stream",
     "text": [
      "[INFO 24-07-06 18:34:28.8843 BST kernel.cc:1233] Loading model from path /tmp/tmpv96l0gj0/model/ with prefix 30b5666abbcf4e37\n",
      "[WARNING 24-07-06 18:34:28.9247 BST abstract_model.cc:1357] The engine \"RandomForestGeneric\" is compatible but could not be created: This inference engine optimized for speed only supports model outputting out-of-bag values. This can be caused by two errors: 1) Have rare label values (by default <10 on the entire training dataset) and not setting \"min_vocab_frequency\" appropriately. 2) Having \"is_already_integerized=true\" and providing label with \"OOB\"(=0) values during training.\n",
      "[INFO 24-07-06 18:34:28.9247 BST kernel.cc:1079] Use slow generic engine\n"
     ]
    },
    {
     "name": "stdout",
     "output_type": "stream",
     "text": [
      "i:91\n"
     ]
    },
    {
     "name": "stderr",
     "output_type": "stream",
     "text": [
      "[INFO 24-07-06 18:34:29.5143 BST kernel.cc:1233] Loading model from path /tmp/tmp8fj1jl7r/model/ with prefix 9d3ca6bfaa014154\n",
      "[WARNING 24-07-06 18:34:29.5546 BST abstract_model.cc:1357] The engine \"RandomForestGeneric\" is compatible but could not be created: This inference engine optimized for speed only supports model outputting out-of-bag values. This can be caused by two errors: 1) Have rare label values (by default <10 on the entire training dataset) and not setting \"min_vocab_frequency\" appropriately. 2) Having \"is_already_integerized=true\" and providing label with \"OOB\"(=0) values during training.\n",
      "[INFO 24-07-06 18:34:29.5546 BST kernel.cc:1079] Use slow generic engine\n"
     ]
    },
    {
     "name": "stdout",
     "output_type": "stream",
     "text": [
      "i:92\n"
     ]
    },
    {
     "name": "stderr",
     "output_type": "stream",
     "text": [
      "[INFO 24-07-06 18:34:30.1211 BST kernel.cc:1233] Loading model from path /tmp/tmp9w7r1qdl/model/ with prefix 1d4a6726fac74c28\n",
      "[WARNING 24-07-06 18:34:30.1619 BST abstract_model.cc:1357] The engine \"RandomForestGeneric\" is compatible but could not be created: This inference engine optimized for speed only supports model outputting out-of-bag values. This can be caused by two errors: 1) Have rare label values (by default <10 on the entire training dataset) and not setting \"min_vocab_frequency\" appropriately. 2) Having \"is_already_integerized=true\" and providing label with \"OOB\"(=0) values during training.\n",
      "[INFO 24-07-06 18:34:30.1619 BST kernel.cc:1079] Use slow generic engine\n"
     ]
    },
    {
     "name": "stdout",
     "output_type": "stream",
     "text": [
      "i:93\n"
     ]
    },
    {
     "name": "stderr",
     "output_type": "stream",
     "text": [
      "[INFO 24-07-06 18:34:30.7304 BST kernel.cc:1233] Loading model from path /tmp/tmpcjj_u197/model/ with prefix 54fe60b2fb11402d\n",
      "[WARNING 24-07-06 18:34:30.7729 BST abstract_model.cc:1357] The engine \"RandomForestGeneric\" is compatible but could not be created: This inference engine optimized for speed only supports model outputting out-of-bag values. This can be caused by two errors: 1) Have rare label values (by default <10 on the entire training dataset) and not setting \"min_vocab_frequency\" appropriately. 2) Having \"is_already_integerized=true\" and providing label with \"OOB\"(=0) values during training.\n",
      "[INFO 24-07-06 18:34:30.7729 BST kernel.cc:1079] Use slow generic engine\n"
     ]
    },
    {
     "name": "stdout",
     "output_type": "stream",
     "text": [
      "i:94\n"
     ]
    },
    {
     "name": "stderr",
     "output_type": "stream",
     "text": [
      "[INFO 24-07-06 18:34:31.3413 BST kernel.cc:1233] Loading model from path /tmp/tmp8z8b2y50/model/ with prefix b919081cf9334192\n",
      "[WARNING 24-07-06 18:34:31.3808 BST abstract_model.cc:1357] The engine \"RandomForestGeneric\" is compatible but could not be created: This inference engine optimized for speed only supports model outputting out-of-bag values. This can be caused by two errors: 1) Have rare label values (by default <10 on the entire training dataset) and not setting \"min_vocab_frequency\" appropriately. 2) Having \"is_already_integerized=true\" and providing label with \"OOB\"(=0) values during training.\n",
      "[INFO 24-07-06 18:34:31.3808 BST kernel.cc:1079] Use slow generic engine\n"
     ]
    },
    {
     "name": "stdout",
     "output_type": "stream",
     "text": [
      "i:95\n"
     ]
    },
    {
     "name": "stderr",
     "output_type": "stream",
     "text": [
      "[INFO 24-07-06 18:34:31.9234 BST kernel.cc:1233] Loading model from path /tmp/tmprmhdt618/model/ with prefix ed29101612cd47ab\n",
      "[WARNING 24-07-06 18:34:31.9649 BST abstract_model.cc:1357] The engine \"RandomForestGeneric\" is compatible but could not be created: This inference engine optimized for speed only supports model outputting out-of-bag values. This can be caused by two errors: 1) Have rare label values (by default <10 on the entire training dataset) and not setting \"min_vocab_frequency\" appropriately. 2) Having \"is_already_integerized=true\" and providing label with \"OOB\"(=0) values during training.\n",
      "[INFO 24-07-06 18:34:31.9649 BST kernel.cc:1079] Use slow generic engine\n"
     ]
    },
    {
     "name": "stdout",
     "output_type": "stream",
     "text": [
      "i:96\n"
     ]
    },
    {
     "name": "stderr",
     "output_type": "stream",
     "text": [
      "[INFO 24-07-06 18:34:32.5155 BST kernel.cc:1233] Loading model from path /tmp/tmp36jjk_z0/model/ with prefix c6e1b3c7eaa44f8e\n",
      "[WARNING 24-07-06 18:34:32.5552 BST abstract_model.cc:1357] The engine \"RandomForestGeneric\" is compatible but could not be created: This inference engine optimized for speed only supports model outputting out-of-bag values. This can be caused by two errors: 1) Have rare label values (by default <10 on the entire training dataset) and not setting \"min_vocab_frequency\" appropriately. 2) Having \"is_already_integerized=true\" and providing label with \"OOB\"(=0) values during training.\n",
      "[INFO 24-07-06 18:34:32.5553 BST kernel.cc:1079] Use slow generic engine\n"
     ]
    },
    {
     "name": "stdout",
     "output_type": "stream",
     "text": [
      "i:97\n"
     ]
    },
    {
     "name": "stderr",
     "output_type": "stream",
     "text": [
      "[INFO 24-07-06 18:34:33.1110 BST kernel.cc:1233] Loading model from path /tmp/tmpd9eheu54/model/ with prefix 5ebec949ce834a67\n",
      "[WARNING 24-07-06 18:34:33.1502 BST abstract_model.cc:1357] The engine \"RandomForestGeneric\" is compatible but could not be created: This inference engine optimized for speed only supports model outputting out-of-bag values. This can be caused by two errors: 1) Have rare label values (by default <10 on the entire training dataset) and not setting \"min_vocab_frequency\" appropriately. 2) Having \"is_already_integerized=true\" and providing label with \"OOB\"(=0) values during training.\n",
      "[INFO 24-07-06 18:34:33.1502 BST kernel.cc:1079] Use slow generic engine\n"
     ]
    },
    {
     "name": "stdout",
     "output_type": "stream",
     "text": [
      "i:98\n"
     ]
    },
    {
     "name": "stderr",
     "output_type": "stream",
     "text": [
      "[INFO 24-07-06 18:34:33.6999 BST kernel.cc:1233] Loading model from path /tmp/tmpbhen5o0p/model/ with prefix b5938c1a2301401b\n",
      "[WARNING 24-07-06 18:34:33.7382 BST abstract_model.cc:1357] The engine \"RandomForestGeneric\" is compatible but could not be created: This inference engine optimized for speed only supports model outputting out-of-bag values. This can be caused by two errors: 1) Have rare label values (by default <10 on the entire training dataset) and not setting \"min_vocab_frequency\" appropriately. 2) Having \"is_already_integerized=true\" and providing label with \"OOB\"(=0) values during training.\n",
      "[INFO 24-07-06 18:34:33.7382 BST kernel.cc:1079] Use slow generic engine\n"
     ]
    },
    {
     "name": "stdout",
     "output_type": "stream",
     "text": [
      "i:99\n"
     ]
    },
    {
     "name": "stderr",
     "output_type": "stream",
     "text": [
      "[INFO 24-07-06 18:34:34.3021 BST kernel.cc:1233] Loading model from path /tmp/tmpjd8rglgt/model/ with prefix 2a968660e8e84147\n",
      "[WARNING 24-07-06 18:34:34.3410 BST abstract_model.cc:1357] The engine \"RandomForestGeneric\" is compatible but could not be created: This inference engine optimized for speed only supports model outputting out-of-bag values. This can be caused by two errors: 1) Have rare label values (by default <10 on the entire training dataset) and not setting \"min_vocab_frequency\" appropriately. 2) Having \"is_already_integerized=true\" and providing label with \"OOB\"(=0) values during training.\n",
      "[INFO 24-07-06 18:34:34.3410 BST kernel.cc:1079] Use slow generic engine\n"
     ]
    },
    {
     "name": "stdout",
     "output_type": "stream",
     "text": [
      "Submission exported to ./submission.csv\n"
     ]
    }
   ],
   "source": [
    "predictions = None\n",
    "num_predictions = 0\n",
    "\n",
    "for i in range(100):\n",
    "    print(f\"i:{i}\")\n",
    "    # Possible models: GradientBoostedTreesModel or RandomForestModel\n",
    "    model = tfdf.keras.RandomForestModel(\n",
    "        verbose=0, # Very few logs\n",
    "        features=[tfdf.keras.FeatureUsage(name=n) for n in input_features],\n",
    "        exclude_non_specified_features=True, # Only use the features in \"features\"\n",
    "\n",
    "        #min_examples=1,\n",
    "        #categorical_algorithm=\"RANDOM\",\n",
    "        ##max_depth=4,\n",
    "        #shrinkage=0.05,\n",
    "        ##num_candidate_attributes_ratio=0.2,\n",
    "        #split_axis=\"SPARSE_OBLIQUE\",\n",
    "        #sparse_oblique_normalization=\"MIN_MAX\",\n",
    "        #sparse_oblique_num_projections_exponent=2.0,\n",
    "        #num_trees=2000,\n",
    "        ##validation_ratio=0.0,\n",
    "        random_seed=i,\n",
    "        honest=True,\n",
    "    )\n",
    "    model.fit(train_ds)\n",
    "    \n",
    "    sub_predictions = model.predict(serving_ds, verbose=0)[:,0]\n",
    "    if predictions is None:\n",
    "        predictions = sub_predictions\n",
    "    else:\n",
    "        predictions += sub_predictions\n",
    "    num_predictions += 1\n",
    "\n",
    "predictions/=num_predictions\n",
    "\n",
    "kaggle_predictions = pd.DataFrame({\n",
    "        \"PassengerId\": serving_df[\"PassengerId\"],\n",
    "        \"Survived\": (predictions >= 0.5).astype(int)\n",
    "    })\n",
    "\n",
    "make_submission(kaggle_predictions)\n"
   ]
  },
  {
   "cell_type": "code",
   "execution_count": null,
   "id": "06e6a9c5-3647-44e3-a5ed-f06af5835261",
   "metadata": {},
   "outputs": [],
   "source": []
  }
 ],
 "metadata": {
  "kernelspec": {
   "display_name": "Python 3 (ipykernel)",
   "language": "python",
   "name": "python3"
  },
  "language_info": {
   "codemirror_mode": {
    "name": "ipython",
    "version": 3
   },
   "file_extension": ".py",
   "mimetype": "text/x-python",
   "name": "python",
   "nbconvert_exporter": "python",
   "pygments_lexer": "ipython3",
   "version": "3.11.5"
  }
 },
 "nbformat": 4,
 "nbformat_minor": 5
}
